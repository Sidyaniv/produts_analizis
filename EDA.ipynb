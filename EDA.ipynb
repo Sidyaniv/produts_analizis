{
 "cells": [
  {
   "cell_type": "code",
   "execution_count": 1,
   "metadata": {},
   "outputs": [],
   "source": [
    "# %pip install pandas numpy matplotlib seaborn scikit-learn pyarrow Jinja2"
   ]
  },
  {
   "cell_type": "code",
   "execution_count": 2,
   "metadata": {},
   "outputs": [],
   "source": [
    "import pandas as pd \n",
    "import numpy as np\n",
    "import matplotlib.pyplot as plt\n",
    "import seaborn as sns"
   ]
  },
  {
   "cell_type": "code",
   "execution_count": 3,
   "metadata": {},
   "outputs": [],
   "source": [
    "import os\n",
    "from IPython.display import display\n",
    "\n",
    "\n",
    "data_folder = './data_for_test_arch/'\n",
    "\n",
    "ana_sales_df = pd.read_parquet(os.path.join(data_folder, 'ana_sales_data.parquet'))\n",
    "ana_upc_df = pd.read_parquet(os.path.join(data_folder, 'ana_upc.parquet'))\n",
    "beer_sales_df = pd.read_parquet(os.path.join(data_folder, 'beer_sales_data.parquet'))\n",
    "beer_upc_df = pd.read_parquet(os.path.join(data_folder, 'beer_upc.parquet'))\n",
    "cig_sales_df = pd.read_parquet(os.path.join(data_folder, 'cig_sales_data.parquet'))\n",
    "cig_upc_df = pd.read_parquet(os.path.join(data_folder, 'cig_upc.parquet'))\n",
    "demographics_df = pd.read_parquet(os.path.join(data_folder, 'demographic_data.parquet'))\n"
   ]
  },
  {
   "cell_type": "code",
   "execution_count": 4,
   "metadata": {},
   "outputs": [],
   "source": [
    "features_sale = ['store', 'upc', 'week','price', 'sale'] \n",
    "ana_features_upc = ['upc', 'size',]\n",
    "beer_cig_features_upc = ['com_code', 'upc', 'size',]\n",
    "demo_features = ['store', 'age60', 'age9', 'educ', 'income', 'hhlarge', 'workwom', 'hval150', 'sstrdist', 'sstrvol', 'cpdist5', 'cpwvol5'] "
   ]
  },
  {
   "cell_type": "code",
   "execution_count": 5,
   "metadata": {},
   "outputs": [],
   "source": [
    "# Избавляемся от лишних данных\n",
    "ana_upc_df = ana_upc_df.drop(columns=['com_code', 'case']) \n",
    "beer_upc_df = beer_upc_df.drop(columns=['com_code', 'case']) \n",
    "cig_upc_df = cig_upc_df.drop(columns=['com_code', 'case']) \n"
   ]
  },
  {
   "cell_type": "code",
   "execution_count": 6,
   "metadata": {},
   "outputs": [],
   "source": [
    "\n",
    "# Добавляем новые колонки\n",
    "ana_sales_df['product_name'] = 'ana'\n",
    "beer_sales_df['product_name'] = 'beer'\n",
    "cig_sales_df['product_name'] = 'cig'\n",
    "\n"
   ]
  },
  {
   "cell_type": "code",
   "execution_count": 7,
   "metadata": {},
   "outputs": [
    {
     "data": {
      "text/html": [
       "<div>\n",
       "<style scoped>\n",
       "    .dataframe tbody tr th:only-of-type {\n",
       "        vertical-align: middle;\n",
       "    }\n",
       "\n",
       "    .dataframe tbody tr th {\n",
       "        vertical-align: top;\n",
       "    }\n",
       "\n",
       "    .dataframe thead th {\n",
       "        text-align: right;\n",
       "    }\n",
       "</style>\n",
       "<table border=\"1\" class=\"dataframe\">\n",
       "  <thead>\n",
       "    <tr style=\"text-align: right;\">\n",
       "      <th></th>\n",
       "      <th>descrip</th>\n",
       "      <th>upc</th>\n",
       "      <th>store</th>\n",
       "      <th>nitem</th>\n",
       "      <th>qty</th>\n",
       "      <th>move</th>\n",
       "      <th>price</th>\n",
       "      <th>size</th>\n",
       "      <th>sale</th>\n",
       "      <th>week</th>\n",
       "      <th>product_name</th>\n",
       "      <th>quantity</th>\n",
       "      <th>volume_oz</th>\n",
       "    </tr>\n",
       "  </thead>\n",
       "  <tbody>\n",
       "    <tr>\n",
       "      <th>0</th>\n",
       "      <td>CAFFEDRINE CAPLETS 1</td>\n",
       "      <td>1192603016</td>\n",
       "      <td>76</td>\n",
       "      <td>7342431</td>\n",
       "      <td>1</td>\n",
       "      <td>0</td>\n",
       "      <td>0.00</td>\n",
       "      <td>16 CT</td>\n",
       "      <td>None</td>\n",
       "      <td>306</td>\n",
       "      <td>ana</td>\n",
       "      <td>0</td>\n",
       "      <td>0</td>\n",
       "    </tr>\n",
       "    <tr>\n",
       "      <th>1</th>\n",
       "      <td>CAFFEDRINE CAPLETS 1</td>\n",
       "      <td>1192603016</td>\n",
       "      <td>76</td>\n",
       "      <td>7342431</td>\n",
       "      <td>1</td>\n",
       "      <td>1</td>\n",
       "      <td>2.99</td>\n",
       "      <td>16 CT</td>\n",
       "      <td>None</td>\n",
       "      <td>307</td>\n",
       "      <td>ana</td>\n",
       "      <td>0</td>\n",
       "      <td>0</td>\n",
       "    </tr>\n",
       "    <tr>\n",
       "      <th>2</th>\n",
       "      <td>CAFFEDRINE CAPLETS 1</td>\n",
       "      <td>1192603016</td>\n",
       "      <td>76</td>\n",
       "      <td>7342431</td>\n",
       "      <td>1</td>\n",
       "      <td>0</td>\n",
       "      <td>0.00</td>\n",
       "      <td>16 CT</td>\n",
       "      <td>None</td>\n",
       "      <td>308</td>\n",
       "      <td>ana</td>\n",
       "      <td>0</td>\n",
       "      <td>0</td>\n",
       "    </tr>\n",
       "    <tr>\n",
       "      <th>3</th>\n",
       "      <td>CAFFEDRINE CAPLETS 1</td>\n",
       "      <td>1192603016</td>\n",
       "      <td>76</td>\n",
       "      <td>7342431</td>\n",
       "      <td>1</td>\n",
       "      <td>0</td>\n",
       "      <td>0.00</td>\n",
       "      <td>16 CT</td>\n",
       "      <td>None</td>\n",
       "      <td>309</td>\n",
       "      <td>ana</td>\n",
       "      <td>0</td>\n",
       "      <td>0</td>\n",
       "    </tr>\n",
       "    <tr>\n",
       "      <th>4</th>\n",
       "      <td>CAFFEDRINE CAPLETS 1</td>\n",
       "      <td>1192603016</td>\n",
       "      <td>76</td>\n",
       "      <td>7342431</td>\n",
       "      <td>1</td>\n",
       "      <td>0</td>\n",
       "      <td>0.00</td>\n",
       "      <td>16 CT</td>\n",
       "      <td>None</td>\n",
       "      <td>310</td>\n",
       "      <td>ana</td>\n",
       "      <td>0</td>\n",
       "      <td>0</td>\n",
       "    </tr>\n",
       "    <tr>\n",
       "      <th>...</th>\n",
       "      <td>...</td>\n",
       "      <td>...</td>\n",
       "      <td>...</td>\n",
       "      <td>...</td>\n",
       "      <td>...</td>\n",
       "      <td>...</td>\n",
       "      <td>...</td>\n",
       "      <td>...</td>\n",
       "      <td>...</td>\n",
       "      <td>...</td>\n",
       "      <td>...</td>\n",
       "      <td>...</td>\n",
       "      <td>...</td>\n",
       "    </tr>\n",
       "    <tr>\n",
       "      <th>7241650</th>\n",
       "      <td>AZO STANDARD</td>\n",
       "      <td>78765150152</td>\n",
       "      <td>144</td>\n",
       "      <td>8435330</td>\n",
       "      <td>1</td>\n",
       "      <td>0</td>\n",
       "      <td>0.00</td>\n",
       "      <td>30 CT</td>\n",
       "      <td>None</td>\n",
       "      <td>395</td>\n",
       "      <td>ana</td>\n",
       "      <td>0</td>\n",
       "      <td>0</td>\n",
       "    </tr>\n",
       "    <tr>\n",
       "      <th>7241651</th>\n",
       "      <td>AZO STANDARD</td>\n",
       "      <td>78765150152</td>\n",
       "      <td>144</td>\n",
       "      <td>8435330</td>\n",
       "      <td>1</td>\n",
       "      <td>0</td>\n",
       "      <td>0.00</td>\n",
       "      <td>30 CT</td>\n",
       "      <td>None</td>\n",
       "      <td>396</td>\n",
       "      <td>ana</td>\n",
       "      <td>0</td>\n",
       "      <td>0</td>\n",
       "    </tr>\n",
       "    <tr>\n",
       "      <th>7241652</th>\n",
       "      <td>AZO STANDARD</td>\n",
       "      <td>78765150152</td>\n",
       "      <td>144</td>\n",
       "      <td>8435330</td>\n",
       "      <td>1</td>\n",
       "      <td>0</td>\n",
       "      <td>0.00</td>\n",
       "      <td>30 CT</td>\n",
       "      <td>None</td>\n",
       "      <td>397</td>\n",
       "      <td>ana</td>\n",
       "      <td>0</td>\n",
       "      <td>0</td>\n",
       "    </tr>\n",
       "    <tr>\n",
       "      <th>7241653</th>\n",
       "      <td>AZO STANDARD</td>\n",
       "      <td>78765150152</td>\n",
       "      <td>144</td>\n",
       "      <td>8435330</td>\n",
       "      <td>1</td>\n",
       "      <td>0</td>\n",
       "      <td>0.00</td>\n",
       "      <td>30 CT</td>\n",
       "      <td>None</td>\n",
       "      <td>398</td>\n",
       "      <td>ana</td>\n",
       "      <td>0</td>\n",
       "      <td>0</td>\n",
       "    </tr>\n",
       "    <tr>\n",
       "      <th>7241654</th>\n",
       "      <td>AZO STANDARD</td>\n",
       "      <td>78765150152</td>\n",
       "      <td>144</td>\n",
       "      <td>8435330</td>\n",
       "      <td>1</td>\n",
       "      <td>0</td>\n",
       "      <td>0.00</td>\n",
       "      <td>30 CT</td>\n",
       "      <td>None</td>\n",
       "      <td>399</td>\n",
       "      <td>ana</td>\n",
       "      <td>0</td>\n",
       "      <td>0</td>\n",
       "    </tr>\n",
       "  </tbody>\n",
       "</table>\n",
       "<p>7241655 rows × 13 columns</p>\n",
       "</div>"
      ],
      "text/plain": [
       "                      descrip          upc  store    nitem  qty  move  price  \\\n",
       "0        CAFFEDRINE CAPLETS 1   1192603016     76  7342431    1     0   0.00   \n",
       "1        CAFFEDRINE CAPLETS 1   1192603016     76  7342431    1     1   2.99   \n",
       "2        CAFFEDRINE CAPLETS 1   1192603016     76  7342431    1     0   0.00   \n",
       "3        CAFFEDRINE CAPLETS 1   1192603016     76  7342431    1     0   0.00   \n",
       "4        CAFFEDRINE CAPLETS 1   1192603016     76  7342431    1     0   0.00   \n",
       "...                       ...          ...    ...      ...  ...   ...    ...   \n",
       "7241650          AZO STANDARD  78765150152    144  8435330    1     0   0.00   \n",
       "7241651          AZO STANDARD  78765150152    144  8435330    1     0   0.00   \n",
       "7241652          AZO STANDARD  78765150152    144  8435330    1     0   0.00   \n",
       "7241653          AZO STANDARD  78765150152    144  8435330    1     0   0.00   \n",
       "7241654          AZO STANDARD  78765150152    144  8435330    1     0   0.00   \n",
       "\n",
       "          size  sale  week product_name  quantity  volume_oz  \n",
       "0        16 CT  None   306          ana         0          0  \n",
       "1        16 CT  None   307          ana         0          0  \n",
       "2        16 CT  None   308          ana         0          0  \n",
       "3        16 CT  None   309          ana         0          0  \n",
       "4        16 CT  None   310          ana         0          0  \n",
       "...        ...   ...   ...          ...       ...        ...  \n",
       "7241650  30 CT  None   395          ana         0          0  \n",
       "7241651  30 CT  None   396          ana         0          0  \n",
       "7241652  30 CT  None   397          ana         0          0  \n",
       "7241653  30 CT  None   398          ana         0          0  \n",
       "7241654  30 CT  None   399          ana         0          0  \n",
       "\n",
       "[7241655 rows x 13 columns]"
      ]
     },
     "execution_count": 7,
     "metadata": {},
     "output_type": "execute_result"
    }
   ],
   "source": [
    "# Объединяем данные\n",
    "ana_df = pd.merge(ana_sales_df, ana_upc_df, on='upc')\n",
    "ana_df = ana_df[['descrip', 'upc', 'store', 'nitem', 'qty', 'move', 'price', 'size', 'sale', 'week', 'product_name']]   \n",
    "ana_df['size'].unique()\n",
    "\n",
    "# Инициализация новых столбцов\n",
    "ana_df['quantity'] = 0\n",
    "ana_df['volume_oz'] = 0\n",
    "ana_df\n"
   ]
  },
  {
   "cell_type": "code",
   "execution_count": 8,
   "metadata": {},
   "outputs": [],
   "source": [
    "# ana_df['price'][:100]"
   ]
  },
  {
   "cell_type": "code",
   "execution_count": 9,
   "metadata": {},
   "outputs": [],
   "source": [
    "\n",
    "# plt.scatter(ana_df['week'][], ana_df['price'] )"
   ]
  },
  {
   "cell_type": "code",
   "execution_count": 10,
   "metadata": {},
   "outputs": [
    {
     "name": "stdout",
     "output_type": "stream",
     "text": [
      "                      descrip          upc  store    nitem  qty  move  price  \\\n",
      "0        CAFFEDRINE CAPLETS 1   1192603016     76  7342431    1     0   0.00   \n",
      "1        CAFFEDRINE CAPLETS 1   1192603016     76  7342431    1     1   2.99   \n",
      "2        CAFFEDRINE CAPLETS 1   1192603016     76  7342431    1     0   0.00   \n",
      "3        CAFFEDRINE CAPLETS 1   1192603016     76  7342431    1     0   0.00   \n",
      "4        CAFFEDRINE CAPLETS 1   1192603016     76  7342431    1     0   0.00   \n",
      "...                       ...          ...    ...      ...  ...   ...    ...   \n",
      "7241650          AZO STANDARD  78765150152    144  8435330    1     0   0.00   \n",
      "7241651          AZO STANDARD  78765150152    144  8435330    1     0   0.00   \n",
      "7241652          AZO STANDARD  78765150152    144  8435330    1     0   0.00   \n",
      "7241653          AZO STANDARD  78765150152    144  8435330    1     0   0.00   \n",
      "7241654          AZO STANDARD  78765150152    144  8435330    1     0   0.00   \n",
      "\n",
      "          size  sale  week product_name  quantity  volume_oz  \n",
      "0        16 CT  None   306          ana      16.0        0.0  \n",
      "1        16 CT  None   307          ana      16.0        0.0  \n",
      "2        16 CT  None   308          ana      16.0        0.0  \n",
      "3        16 CT  None   309          ana      16.0        0.0  \n",
      "4        16 CT  None   310          ana      16.0        0.0  \n",
      "...        ...   ...   ...          ...       ...        ...  \n",
      "7241650  30 CT  None   395          ana       NaN        NaN  \n",
      "7241651  30 CT  None   396          ana       NaN        NaN  \n",
      "7241652  30 CT  None   397          ana       NaN        NaN  \n",
      "7241653  30 CT  None   398          ana       NaN        NaN  \n",
      "7241654  30 CT  None   399          ana       NaN        NaN  \n",
      "\n",
      "[7241655 rows x 13 columns]\n"
     ]
    }
   ],
   "source": [
    "import re\n",
    "\n",
    "\n",
    "def parse_size(size):\n",
    "    if ('OZ' or 'O') in size:\n",
    "        volume = re.findall(r'\\d*\\.?\\d+', size)\n",
    "        volume = float(volume[0]) if volume else None\n",
    "        return 0, volume\n",
    "    \n",
    "    else:\n",
    "        quantity = re.findall(r'\\d+', size)  # Извлекаем число\n",
    "        quantity = int(quantity[0]) if quantity else None\n",
    "        return quantity, 0\n",
    "        \n",
    "ana_df[['quantity', 'volume_oz']] = ana_df['size'][:100].apply(parse_size).apply(pd.Series)\n",
    "\n",
    "print(ana_df)"
   ]
  },
  {
   "cell_type": "code",
   "execution_count": 11,
   "metadata": {},
   "outputs": [
    {
     "data": {
      "text/plain": [
       "0           False\n",
       "1           False\n",
       "2           False\n",
       "3           False\n",
       "4           False\n",
       "            ...  \n",
       "16540739    False\n",
       "16540740    False\n",
       "16540741    False\n",
       "16540742    False\n",
       "16540743    False\n",
       "Name: upc, Length: 16540744, dtype: bool"
      ]
     },
     "execution_count": 11,
     "metadata": {},
     "output_type": "execute_result"
    }
   ],
   "source": [
    "# \n",
    "products = pd.concat([ana_sales_df, beer_sales_df, cig_sales_df], axis=0, ignore_index=True)\n",
    "products['upc'] == ''\n",
    "\n",
    "# plt."
   ]
  },
  {
   "cell_type": "markdown",
   "metadata": {},
   "source": [
    "## Отображаем основные данные о таблицах "
   ]
  },
  {
   "cell_type": "markdown",
   "metadata": {},
   "source": [
    "---"
   ]
  },
  {
   "cell_type": "code",
   "execution_count": 12,
   "metadata": {},
   "outputs": [
    {
     "name": "stdout",
     "output_type": "stream",
     "text": [
      "<class 'pandas.core.frame.DataFrame'>\n",
      "Index: 7241655 entries, 0 to 7339216\n",
      "Data columns (total 8 columns):\n",
      " #   Column        Dtype  \n",
      "---  ------        -----  \n",
      " 0   store         int64  \n",
      " 1   upc           int64  \n",
      " 2   week          int64  \n",
      " 3   move          int64  \n",
      " 4   qty           int64  \n",
      " 5   price         float64\n",
      " 6   sale          object \n",
      " 7   product_name  object \n",
      "dtypes: float64(1), int64(5), object(2)\n",
      "memory usage: 497.2+ MB\n"
     ]
    },
    {
     "data": {
      "text/plain": [
       "None"
      ]
     },
     "metadata": {},
     "output_type": "display_data"
    },
    {
     "data": {
      "text/html": [
       "<style type=\"text/css\">\n",
       "</style>\n",
       "<table id=\"T_8dd6c\">\n",
       "  <caption>ana_sales head</caption>\n",
       "  <thead>\n",
       "    <tr>\n",
       "      <th class=\"blank level0\" >&nbsp;</th>\n",
       "      <th id=\"T_8dd6c_level0_col0\" class=\"col_heading level0 col0\" >store</th>\n",
       "      <th id=\"T_8dd6c_level0_col1\" class=\"col_heading level0 col1\" >upc</th>\n",
       "      <th id=\"T_8dd6c_level0_col2\" class=\"col_heading level0 col2\" >week</th>\n",
       "      <th id=\"T_8dd6c_level0_col3\" class=\"col_heading level0 col3\" >move</th>\n",
       "      <th id=\"T_8dd6c_level0_col4\" class=\"col_heading level0 col4\" >qty</th>\n",
       "      <th id=\"T_8dd6c_level0_col5\" class=\"col_heading level0 col5\" >price</th>\n",
       "      <th id=\"T_8dd6c_level0_col6\" class=\"col_heading level0 col6\" >sale</th>\n",
       "      <th id=\"T_8dd6c_level0_col7\" class=\"col_heading level0 col7\" >product_name</th>\n",
       "    </tr>\n",
       "  </thead>\n",
       "  <tbody>\n",
       "    <tr>\n",
       "      <th id=\"T_8dd6c_level0_row0\" class=\"row_heading level0 row0\" >0</th>\n",
       "      <td id=\"T_8dd6c_row0_col0\" class=\"data row0 col0\" >76</td>\n",
       "      <td id=\"T_8dd6c_row0_col1\" class=\"data row0 col1\" >1192603016</td>\n",
       "      <td id=\"T_8dd6c_row0_col2\" class=\"data row0 col2\" >306</td>\n",
       "      <td id=\"T_8dd6c_row0_col3\" class=\"data row0 col3\" >0</td>\n",
       "      <td id=\"T_8dd6c_row0_col4\" class=\"data row0 col4\" >1</td>\n",
       "      <td id=\"T_8dd6c_row0_col5\" class=\"data row0 col5\" >0.000000</td>\n",
       "      <td id=\"T_8dd6c_row0_col6\" class=\"data row0 col6\" >None</td>\n",
       "      <td id=\"T_8dd6c_row0_col7\" class=\"data row0 col7\" >ana</td>\n",
       "    </tr>\n",
       "    <tr>\n",
       "      <th id=\"T_8dd6c_level0_row1\" class=\"row_heading level0 row1\" >1</th>\n",
       "      <td id=\"T_8dd6c_row1_col0\" class=\"data row1 col0\" >76</td>\n",
       "      <td id=\"T_8dd6c_row1_col1\" class=\"data row1 col1\" >1192603016</td>\n",
       "      <td id=\"T_8dd6c_row1_col2\" class=\"data row1 col2\" >307</td>\n",
       "      <td id=\"T_8dd6c_row1_col3\" class=\"data row1 col3\" >1</td>\n",
       "      <td id=\"T_8dd6c_row1_col4\" class=\"data row1 col4\" >1</td>\n",
       "      <td id=\"T_8dd6c_row1_col5\" class=\"data row1 col5\" >2.990000</td>\n",
       "      <td id=\"T_8dd6c_row1_col6\" class=\"data row1 col6\" >None</td>\n",
       "      <td id=\"T_8dd6c_row1_col7\" class=\"data row1 col7\" >ana</td>\n",
       "    </tr>\n",
       "    <tr>\n",
       "      <th id=\"T_8dd6c_level0_row2\" class=\"row_heading level0 row2\" >2</th>\n",
       "      <td id=\"T_8dd6c_row2_col0\" class=\"data row2 col0\" >76</td>\n",
       "      <td id=\"T_8dd6c_row2_col1\" class=\"data row2 col1\" >1192603016</td>\n",
       "      <td id=\"T_8dd6c_row2_col2\" class=\"data row2 col2\" >308</td>\n",
       "      <td id=\"T_8dd6c_row2_col3\" class=\"data row2 col3\" >0</td>\n",
       "      <td id=\"T_8dd6c_row2_col4\" class=\"data row2 col4\" >1</td>\n",
       "      <td id=\"T_8dd6c_row2_col5\" class=\"data row2 col5\" >0.000000</td>\n",
       "      <td id=\"T_8dd6c_row2_col6\" class=\"data row2 col6\" >None</td>\n",
       "      <td id=\"T_8dd6c_row2_col7\" class=\"data row2 col7\" >ana</td>\n",
       "    </tr>\n",
       "    <tr>\n",
       "      <th id=\"T_8dd6c_level0_row3\" class=\"row_heading level0 row3\" >3</th>\n",
       "      <td id=\"T_8dd6c_row3_col0\" class=\"data row3 col0\" >76</td>\n",
       "      <td id=\"T_8dd6c_row3_col1\" class=\"data row3 col1\" >1192603016</td>\n",
       "      <td id=\"T_8dd6c_row3_col2\" class=\"data row3 col2\" >309</td>\n",
       "      <td id=\"T_8dd6c_row3_col3\" class=\"data row3 col3\" >0</td>\n",
       "      <td id=\"T_8dd6c_row3_col4\" class=\"data row3 col4\" >1</td>\n",
       "      <td id=\"T_8dd6c_row3_col5\" class=\"data row3 col5\" >0.000000</td>\n",
       "      <td id=\"T_8dd6c_row3_col6\" class=\"data row3 col6\" >None</td>\n",
       "      <td id=\"T_8dd6c_row3_col7\" class=\"data row3 col7\" >ana</td>\n",
       "    </tr>\n",
       "    <tr>\n",
       "      <th id=\"T_8dd6c_level0_row4\" class=\"row_heading level0 row4\" >4</th>\n",
       "      <td id=\"T_8dd6c_row4_col0\" class=\"data row4 col0\" >76</td>\n",
       "      <td id=\"T_8dd6c_row4_col1\" class=\"data row4 col1\" >1192603016</td>\n",
       "      <td id=\"T_8dd6c_row4_col2\" class=\"data row4 col2\" >310</td>\n",
       "      <td id=\"T_8dd6c_row4_col3\" class=\"data row4 col3\" >0</td>\n",
       "      <td id=\"T_8dd6c_row4_col4\" class=\"data row4 col4\" >1</td>\n",
       "      <td id=\"T_8dd6c_row4_col5\" class=\"data row4 col5\" >0.000000</td>\n",
       "      <td id=\"T_8dd6c_row4_col6\" class=\"data row4 col6\" >None</td>\n",
       "      <td id=\"T_8dd6c_row4_col7\" class=\"data row4 col7\" >ana</td>\n",
       "    </tr>\n",
       "  </tbody>\n",
       "</table>\n"
      ],
      "text/plain": [
       "<pandas.io.formats.style.Styler at 0x73d3988036a0>"
      ]
     },
     "metadata": {},
     "output_type": "display_data"
    },
    {
     "name": "stdout",
     "output_type": "stream",
     "text": [
      "<class 'pandas.core.frame.DataFrame'>\n",
      "RangeIndex: 641 entries, 0 to 640\n",
      "Data columns (total 4 columns):\n",
      " #   Column   Non-Null Count  Dtype \n",
      "---  ------   --------------  ----- \n",
      " 0   upc      641 non-null    int64 \n",
      " 1   descrip  641 non-null    object\n",
      " 2   size     641 non-null    object\n",
      " 3   nitem    641 non-null    int64 \n",
      "dtypes: int64(2), object(2)\n",
      "memory usage: 20.2+ KB\n"
     ]
    },
    {
     "data": {
      "text/plain": [
       "None"
      ]
     },
     "metadata": {},
     "output_type": "display_data"
    },
    {
     "data": {
      "text/html": [
       "<style type=\"text/css\">\n",
       "</style>\n",
       "<table id=\"T_8439d\">\n",
       "  <caption>ana_upc head</caption>\n",
       "  <thead>\n",
       "    <tr>\n",
       "      <th class=\"blank level0\" >&nbsp;</th>\n",
       "      <th id=\"T_8439d_level0_col0\" class=\"col_heading level0 col0\" >upc</th>\n",
       "      <th id=\"T_8439d_level0_col1\" class=\"col_heading level0 col1\" >descrip</th>\n",
       "      <th id=\"T_8439d_level0_col2\" class=\"col_heading level0 col2\" >size</th>\n",
       "      <th id=\"T_8439d_level0_col3\" class=\"col_heading level0 col3\" >nitem</th>\n",
       "    </tr>\n",
       "  </thead>\n",
       "  <tbody>\n",
       "    <tr>\n",
       "      <th id=\"T_8439d_level0_row0\" class=\"row_heading level0 row0\" >0</th>\n",
       "      <td id=\"T_8439d_row0_col0\" class=\"data row0 col0\" >1192603016</td>\n",
       "      <td id=\"T_8439d_row0_col1\" class=\"data row0 col1\" >CAFFEDRINE CAPLETS 1</td>\n",
       "      <td id=\"T_8439d_row0_col2\" class=\"data row0 col2\" >16 CT</td>\n",
       "      <td id=\"T_8439d_row0_col3\" class=\"data row0 col3\" >7342431</td>\n",
       "    </tr>\n",
       "    <tr>\n",
       "      <th id=\"T_8439d_level0_row1\" class=\"row_heading level0 row1\" >1</th>\n",
       "      <td id=\"T_8439d_row1_col0\" class=\"data row1 col0\" >1192662108</td>\n",
       "      <td id=\"T_8439d_row1_col1\" class=\"data row1 col1\" >SLEEPINAL SOFTGEL</td>\n",
       "      <td id=\"T_8439d_row1_col2\" class=\"data row1 col2\" >8 CT</td>\n",
       "      <td id=\"T_8439d_row1_col3\" class=\"data row1 col3\" >7333311</td>\n",
       "    </tr>\n",
       "    <tr>\n",
       "      <th id=\"T_8439d_level0_row2\" class=\"row_heading level0 row2\" >2</th>\n",
       "      <td id=\"T_8439d_row2_col0\" class=\"data row2 col0\" >1650001020</td>\n",
       "      <td id=\"T_8439d_row2_col1\" class=\"data row2 col1\" >NERVINE TABS</td>\n",
       "      <td id=\"T_8439d_row2_col2\" class=\"data row2 col2\" >30 CT</td>\n",
       "      <td id=\"T_8439d_row2_col3\" class=\"data row2 col3\" >8430820</td>\n",
       "    </tr>\n",
       "    <tr>\n",
       "      <th id=\"T_8439d_level0_row3\" class=\"row_heading level0 row3\" >3</th>\n",
       "      <td id=\"T_8439d_row3_col0\" class=\"data row3 col0\" >1650001022</td>\n",
       "      <td id=\"T_8439d_row3_col1\" class=\"data row3 col1\" >NERVINE SLEEP AID</td>\n",
       "      <td id=\"T_8439d_row3_col2\" class=\"data row3 col2\" >12 CT</td>\n",
       "      <td id=\"T_8439d_row3_col3\" class=\"data row3 col3\" >8430840</td>\n",
       "    </tr>\n",
       "    <tr>\n",
       "      <th id=\"T_8439d_level0_row4\" class=\"row_heading level0 row4\" >4</th>\n",
       "      <td id=\"T_8439d_row4_col0\" class=\"data row4 col0\" >1650004106</td>\n",
       "      <td id=\"T_8439d_row4_col1\" class=\"data row4 col1\" >ALKA-SELTZER GOLD</td>\n",
       "      <td id=\"T_8439d_row4_col2\" class=\"data row4 col2\" >20 CT</td>\n",
       "      <td id=\"T_8439d_row4_col3\" class=\"data row4 col3\" >8430880</td>\n",
       "    </tr>\n",
       "  </tbody>\n",
       "</table>\n"
      ],
      "text/plain": [
       "<pandas.io.formats.style.Styler at 0x73d314d87e20>"
      ]
     },
     "metadata": {},
     "output_type": "display_data"
    }
   ],
   "source": [
    "display(ana_sales_df.info(), \n",
    "        ana_sales_df.head().style.set_caption('ana_sales head')\n",
    "        )\n",
    " \n",
    "display(ana_upc_df.info(), \n",
    "        ana_upc_df.head().style.set_caption('ana_upc head')\n",
    "        )"
   ]
  },
  {
   "cell_type": "markdown",
   "metadata": {},
   "source": [
    "---"
   ]
  },
  {
   "cell_type": "code",
   "execution_count": 13,
   "metadata": {},
   "outputs": [
    {
     "name": "stdout",
     "output_type": "stream",
     "text": [
      "<class 'pandas.core.frame.DataFrame'>\n",
      "Index: 3967720 entries, 0 to 3990671\n",
      "Data columns (total 8 columns):\n",
      " #   Column        Dtype  \n",
      "---  ------        -----  \n",
      " 0   store         int64  \n",
      " 1   upc           int64  \n",
      " 2   week          int64  \n",
      " 3   move          int64  \n",
      " 4   qty           int64  \n",
      " 5   price         float64\n",
      " 6   sale          object \n",
      " 7   product_name  object \n",
      "dtypes: float64(1), int64(5), object(2)\n",
      "memory usage: 272.4+ MB\n"
     ]
    },
    {
     "data": {
      "text/plain": [
       "None"
      ]
     },
     "metadata": {},
     "output_type": "display_data"
    },
    {
     "data": {
      "text/html": [
       "<style type=\"text/css\">\n",
       "</style>\n",
       "<table id=\"T_7821b\">\n",
       "  <caption>Beer sales</caption>\n",
       "  <thead>\n",
       "    <tr>\n",
       "      <th class=\"blank level0\" >&nbsp;</th>\n",
       "      <th id=\"T_7821b_level0_col0\" class=\"col_heading level0 col0\" >store</th>\n",
       "      <th id=\"T_7821b_level0_col1\" class=\"col_heading level0 col1\" >upc</th>\n",
       "      <th id=\"T_7821b_level0_col2\" class=\"col_heading level0 col2\" >week</th>\n",
       "      <th id=\"T_7821b_level0_col3\" class=\"col_heading level0 col3\" >move</th>\n",
       "      <th id=\"T_7821b_level0_col4\" class=\"col_heading level0 col4\" >qty</th>\n",
       "      <th id=\"T_7821b_level0_col5\" class=\"col_heading level0 col5\" >price</th>\n",
       "      <th id=\"T_7821b_level0_col6\" class=\"col_heading level0 col6\" >sale</th>\n",
       "      <th id=\"T_7821b_level0_col7\" class=\"col_heading level0 col7\" >product_name</th>\n",
       "    </tr>\n",
       "  </thead>\n",
       "  <tbody>\n",
       "    <tr>\n",
       "      <th id=\"T_7821b_level0_row0\" class=\"row_heading level0 row0\" >0</th>\n",
       "      <td id=\"T_7821b_row0_col0\" class=\"data row0 col0\" >2</td>\n",
       "      <td id=\"T_7821b_row0_col1\" class=\"data row0 col1\" >294</td>\n",
       "      <td id=\"T_7821b_row0_col2\" class=\"data row0 col2\" >298</td>\n",
       "      <td id=\"T_7821b_row0_col3\" class=\"data row0 col3\" >11</td>\n",
       "      <td id=\"T_7821b_row0_col4\" class=\"data row0 col4\" >1</td>\n",
       "      <td id=\"T_7821b_row0_col5\" class=\"data row0 col5\" >2.620000</td>\n",
       "      <td id=\"T_7821b_row0_col6\" class=\"data row0 col6\" >None</td>\n",
       "      <td id=\"T_7821b_row0_col7\" class=\"data row0 col7\" >beer</td>\n",
       "    </tr>\n",
       "    <tr>\n",
       "      <th id=\"T_7821b_level0_row1\" class=\"row_heading level0 row1\" >1</th>\n",
       "      <td id=\"T_7821b_row1_col0\" class=\"data row1 col0\" >2</td>\n",
       "      <td id=\"T_7821b_row1_col1\" class=\"data row1 col1\" >294</td>\n",
       "      <td id=\"T_7821b_row1_col2\" class=\"data row1 col2\" >299</td>\n",
       "      <td id=\"T_7821b_row1_col3\" class=\"data row1 col3\" >9</td>\n",
       "      <td id=\"T_7821b_row1_col4\" class=\"data row1 col4\" >1</td>\n",
       "      <td id=\"T_7821b_row1_col5\" class=\"data row1 col5\" >2.510000</td>\n",
       "      <td id=\"T_7821b_row1_col6\" class=\"data row1 col6\" >None</td>\n",
       "      <td id=\"T_7821b_row1_col7\" class=\"data row1 col7\" >beer</td>\n",
       "    </tr>\n",
       "    <tr>\n",
       "      <th id=\"T_7821b_level0_row2\" class=\"row_heading level0 row2\" >2</th>\n",
       "      <td id=\"T_7821b_row2_col0\" class=\"data row2 col0\" >2</td>\n",
       "      <td id=\"T_7821b_row2_col1\" class=\"data row2 col1\" >294</td>\n",
       "      <td id=\"T_7821b_row2_col2\" class=\"data row2 col2\" >300</td>\n",
       "      <td id=\"T_7821b_row2_col3\" class=\"data row2 col3\" >6</td>\n",
       "      <td id=\"T_7821b_row2_col4\" class=\"data row2 col4\" >1</td>\n",
       "      <td id=\"T_7821b_row2_col5\" class=\"data row2 col5\" >2.490000</td>\n",
       "      <td id=\"T_7821b_row2_col6\" class=\"data row2 col6\" >None</td>\n",
       "      <td id=\"T_7821b_row2_col7\" class=\"data row2 col7\" >beer</td>\n",
       "    </tr>\n",
       "    <tr>\n",
       "      <th id=\"T_7821b_level0_row3\" class=\"row_heading level0 row3\" >3</th>\n",
       "      <td id=\"T_7821b_row3_col0\" class=\"data row3 col0\" >2</td>\n",
       "      <td id=\"T_7821b_row3_col1\" class=\"data row3 col1\" >294</td>\n",
       "      <td id=\"T_7821b_row3_col2\" class=\"data row3 col2\" >301</td>\n",
       "      <td id=\"T_7821b_row3_col3\" class=\"data row3 col3\" >5</td>\n",
       "      <td id=\"T_7821b_row3_col4\" class=\"data row3 col4\" >1</td>\n",
       "      <td id=\"T_7821b_row3_col5\" class=\"data row3 col5\" >2.990000</td>\n",
       "      <td id=\"T_7821b_row3_col6\" class=\"data row3 col6\" >None</td>\n",
       "      <td id=\"T_7821b_row3_col7\" class=\"data row3 col7\" >beer</td>\n",
       "    </tr>\n",
       "    <tr>\n",
       "      <th id=\"T_7821b_level0_row4\" class=\"row_heading level0 row4\" >4</th>\n",
       "      <td id=\"T_7821b_row4_col0\" class=\"data row4 col0\" >2</td>\n",
       "      <td id=\"T_7821b_row4_col1\" class=\"data row4 col1\" >294</td>\n",
       "      <td id=\"T_7821b_row4_col2\" class=\"data row4 col2\" >302</td>\n",
       "      <td id=\"T_7821b_row4_col3\" class=\"data row4 col3\" >1</td>\n",
       "      <td id=\"T_7821b_row4_col4\" class=\"data row4 col4\" >1</td>\n",
       "      <td id=\"T_7821b_row4_col5\" class=\"data row4 col5\" >2.490000</td>\n",
       "      <td id=\"T_7821b_row4_col6\" class=\"data row4 col6\" >None</td>\n",
       "      <td id=\"T_7821b_row4_col7\" class=\"data row4 col7\" >beer</td>\n",
       "    </tr>\n",
       "  </tbody>\n",
       "</table>\n"
      ],
      "text/plain": [
       "<pandas.io.formats.style.Styler at 0x73d312f7b2e0>"
      ]
     },
     "metadata": {},
     "output_type": "display_data"
    },
    {
     "name": "stdout",
     "output_type": "stream",
     "text": [
      "<class 'pandas.core.frame.DataFrame'>\n",
      "RangeIndex: 790 entries, 0 to 789\n",
      "Data columns (total 4 columns):\n",
      " #   Column   Non-Null Count  Dtype \n",
      "---  ------   --------------  ----- \n",
      " 0   upc      790 non-null    int64 \n",
      " 1   descrip  790 non-null    object\n",
      " 2   size     790 non-null    object\n",
      " 3   nitem    790 non-null    int64 \n",
      "dtypes: int64(2), object(2)\n",
      "memory usage: 24.8+ KB\n"
     ]
    },
    {
     "data": {
      "text/plain": [
       "None"
      ]
     },
     "metadata": {},
     "output_type": "display_data"
    },
    {
     "data": {
      "text/html": [
       "<style type=\"text/css\">\n",
       "</style>\n",
       "<table id=\"T_3156d\">\n",
       "  <caption>Beer upc</caption>\n",
       "  <thead>\n",
       "    <tr>\n",
       "      <th class=\"blank level0\" >&nbsp;</th>\n",
       "      <th id=\"T_3156d_level0_col0\" class=\"col_heading level0 col0\" >upc</th>\n",
       "      <th id=\"T_3156d_level0_col1\" class=\"col_heading level0 col1\" >descrip</th>\n",
       "      <th id=\"T_3156d_level0_col2\" class=\"col_heading level0 col2\" >size</th>\n",
       "      <th id=\"T_3156d_level0_col3\" class=\"col_heading level0 col3\" >nitem</th>\n",
       "    </tr>\n",
       "  </thead>\n",
       "  <tbody>\n",
       "    <tr>\n",
       "      <th id=\"T_3156d_level0_row0\" class=\"row_heading level0 row0\" >0</th>\n",
       "      <td id=\"T_3156d_row0_col0\" class=\"data row0 col0\" >294</td>\n",
       "      <td id=\"T_3156d_row0_col1\" class=\"data row0 col1\" >BEER LIMIT</td>\n",
       "      <td id=\"T_3156d_row0_col2\" class=\"data row0 col2\" >12/12O</td>\n",
       "      <td id=\"T_3156d_row0_col3\" class=\"data row0 col3\" >9990180</td>\n",
       "    </tr>\n",
       "    <tr>\n",
       "      <th id=\"T_3156d_level0_row1\" class=\"row_heading level0 row1\" >1</th>\n",
       "      <td id=\"T_3156d_row1_col0\" class=\"data row1 col0\" >307</td>\n",
       "      <td id=\"T_3156d_row1_col1\" class=\"data row1 col1\" >HEINEKEN KINGSIZE CA</td>\n",
       "      <td id=\"T_3156d_row1_col2\" class=\"data row1 col2\" >259 OZ</td>\n",
       "      <td id=\"T_3156d_row1_col3\" class=\"data row1 col3\" >9490410</td>\n",
       "    </tr>\n",
       "    <tr>\n",
       "      <th id=\"T_3156d_level0_row2\" class=\"row_heading level0 row2\" >2</th>\n",
       "      <td id=\"T_3156d_row2_col0\" class=\"data row2 col0\" >710</td>\n",
       "      <td id=\"T_3156d_row2_col1\" class=\"data row2 col1\" >BUDWEISER BEER</td>\n",
       "      <td id=\"T_3156d_row2_col2\" class=\"data row2 col2\" >24/12O</td>\n",
       "      <td id=\"T_3156d_row2_col3\" class=\"data row2 col3\" >9402300</td>\n",
       "    </tr>\n",
       "    <tr>\n",
       "      <th id=\"T_3156d_level0_row3\" class=\"row_heading level0 row3\" >3</th>\n",
       "      <td id=\"T_3156d_row3_col0\" class=\"data row3 col0\" >711</td>\n",
       "      <td id=\"T_3156d_row3_col1\" class=\"data row3 col1\" >BUDWEISER DRY BEER</td>\n",
       "      <td id=\"T_3156d_row3_col2\" class=\"data row3 col2\" >24/12O</td>\n",
       "      <td id=\"T_3156d_row3_col3\" class=\"data row3 col3\" >9402650</td>\n",
       "    </tr>\n",
       "    <tr>\n",
       "      <th id=\"T_3156d_level0_row4\" class=\"row_heading level0 row4\" >4</th>\n",
       "      <td id=\"T_3156d_row4_col0\" class=\"data row4 col0\" >712</td>\n",
       "      <td id=\"T_3156d_row4_col1\" class=\"data row4 col1\" >BUDWEISER LIGHT BEER</td>\n",
       "      <td id=\"T_3156d_row4_col2\" class=\"data row4 col2\" >24/12O</td>\n",
       "      <td id=\"T_3156d_row4_col3\" class=\"data row4 col3\" >9402600</td>\n",
       "    </tr>\n",
       "  </tbody>\n",
       "</table>\n"
      ],
      "text/plain": [
       "<pandas.io.formats.style.Styler at 0x73d312f7b7c0>"
      ]
     },
     "metadata": {},
     "output_type": "display_data"
    }
   ],
   "source": [
    "\n",
    "display(beer_sales_df.info(),\n",
    "        beer_sales_df.head().style.set_caption('Beer sales'))\n",
    "display(beer_upc_df.info(),\n",
    "        beer_upc_df.head().style.set_caption('Beer upc')) "
   ]
  },
  {
   "cell_type": "markdown",
   "metadata": {},
   "source": [
    "---"
   ]
  },
  {
   "cell_type": "code",
   "execution_count": 14,
   "metadata": {},
   "outputs": [
    {
     "name": "stdout",
     "output_type": "stream",
     "text": [
      "<class 'pandas.core.frame.DataFrame'>\n",
      "Index: 5331369 entries, 0 to 5398196\n",
      "Data columns (total 8 columns):\n",
      " #   Column        Dtype  \n",
      "---  ------        -----  \n",
      " 0   store         int64  \n",
      " 1   upc           int64  \n",
      " 2   week          int64  \n",
      " 3   move          int64  \n",
      " 4   qty           int64  \n",
      " 5   price         float64\n",
      " 6   sale          object \n",
      " 7   product_name  object \n",
      "dtypes: float64(1), int64(5), object(2)\n",
      "memory usage: 366.1+ MB\n"
     ]
    },
    {
     "data": {
      "text/plain": [
       "None"
      ]
     },
     "metadata": {},
     "output_type": "display_data"
    },
    {
     "data": {
      "text/html": [
       "<style type=\"text/css\">\n",
       "</style>\n",
       "<table id=\"T_742eb\">\n",
       "  <caption>cig_sales head</caption>\n",
       "  <thead>\n",
       "    <tr>\n",
       "      <th class=\"blank level0\" >&nbsp;</th>\n",
       "      <th id=\"T_742eb_level0_col0\" class=\"col_heading level0 col0\" >store</th>\n",
       "      <th id=\"T_742eb_level0_col1\" class=\"col_heading level0 col1\" >upc</th>\n",
       "      <th id=\"T_742eb_level0_col2\" class=\"col_heading level0 col2\" >week</th>\n",
       "      <th id=\"T_742eb_level0_col3\" class=\"col_heading level0 col3\" >move</th>\n",
       "      <th id=\"T_742eb_level0_col4\" class=\"col_heading level0 col4\" >qty</th>\n",
       "      <th id=\"T_742eb_level0_col5\" class=\"col_heading level0 col5\" >price</th>\n",
       "      <th id=\"T_742eb_level0_col6\" class=\"col_heading level0 col6\" >sale</th>\n",
       "      <th id=\"T_742eb_level0_col7\" class=\"col_heading level0 col7\" >product_name</th>\n",
       "    </tr>\n",
       "  </thead>\n",
       "  <tbody>\n",
       "    <tr>\n",
       "      <th id=\"T_742eb_level0_row0\" class=\"row_heading level0 row0\" >0</th>\n",
       "      <td id=\"T_742eb_row0_col0\" class=\"data row0 col0\" >8</td>\n",
       "      <td id=\"T_742eb_row0_col1\" class=\"data row0 col1\" >190</td>\n",
       "      <td id=\"T_742eb_row0_col2\" class=\"data row0 col2\" >194</td>\n",
       "      <td id=\"T_742eb_row0_col3\" class=\"data row0 col3\" >0</td>\n",
       "      <td id=\"T_742eb_row0_col4\" class=\"data row0 col4\" >1</td>\n",
       "      <td id=\"T_742eb_row0_col5\" class=\"data row0 col5\" >0.000000</td>\n",
       "      <td id=\"T_742eb_row0_col6\" class=\"data row0 col6\" >None</td>\n",
       "      <td id=\"T_742eb_row0_col7\" class=\"data row0 col7\" >cig</td>\n",
       "    </tr>\n",
       "    <tr>\n",
       "      <th id=\"T_742eb_level0_row1\" class=\"row_heading level0 row1\" >1</th>\n",
       "      <td id=\"T_742eb_row1_col0\" class=\"data row1 col0\" >8</td>\n",
       "      <td id=\"T_742eb_row1_col1\" class=\"data row1 col1\" >190</td>\n",
       "      <td id=\"T_742eb_row1_col2\" class=\"data row1 col2\" >195</td>\n",
       "      <td id=\"T_742eb_row1_col3\" class=\"data row1 col3\" >2</td>\n",
       "      <td id=\"T_742eb_row1_col4\" class=\"data row1 col4\" >1</td>\n",
       "      <td id=\"T_742eb_row1_col5\" class=\"data row1 col5\" >21.510000</td>\n",
       "      <td id=\"T_742eb_row1_col6\" class=\"data row1 col6\" >None</td>\n",
       "      <td id=\"T_742eb_row1_col7\" class=\"data row1 col7\" >cig</td>\n",
       "    </tr>\n",
       "    <tr>\n",
       "      <th id=\"T_742eb_level0_row2\" class=\"row_heading level0 row2\" >2</th>\n",
       "      <td id=\"T_742eb_row2_col0\" class=\"data row2 col0\" >8</td>\n",
       "      <td id=\"T_742eb_row2_col1\" class=\"data row2 col1\" >190</td>\n",
       "      <td id=\"T_742eb_row2_col2\" class=\"data row2 col2\" >196</td>\n",
       "      <td id=\"T_742eb_row2_col3\" class=\"data row2 col3\" >0</td>\n",
       "      <td id=\"T_742eb_row2_col4\" class=\"data row2 col4\" >1</td>\n",
       "      <td id=\"T_742eb_row2_col5\" class=\"data row2 col5\" >0.000000</td>\n",
       "      <td id=\"T_742eb_row2_col6\" class=\"data row2 col6\" >None</td>\n",
       "      <td id=\"T_742eb_row2_col7\" class=\"data row2 col7\" >cig</td>\n",
       "    </tr>\n",
       "    <tr>\n",
       "      <th id=\"T_742eb_level0_row3\" class=\"row_heading level0 row3\" >3</th>\n",
       "      <td id=\"T_742eb_row3_col0\" class=\"data row3 col0\" >8</td>\n",
       "      <td id=\"T_742eb_row3_col1\" class=\"data row3 col1\" >190</td>\n",
       "      <td id=\"T_742eb_row3_col2\" class=\"data row3 col2\" >197</td>\n",
       "      <td id=\"T_742eb_row3_col3\" class=\"data row3 col3\" >0</td>\n",
       "      <td id=\"T_742eb_row3_col4\" class=\"data row3 col4\" >1</td>\n",
       "      <td id=\"T_742eb_row3_col5\" class=\"data row3 col5\" >0.000000</td>\n",
       "      <td id=\"T_742eb_row3_col6\" class=\"data row3 col6\" >None</td>\n",
       "      <td id=\"T_742eb_row3_col7\" class=\"data row3 col7\" >cig</td>\n",
       "    </tr>\n",
       "    <tr>\n",
       "      <th id=\"T_742eb_level0_row4\" class=\"row_heading level0 row4\" >4</th>\n",
       "      <td id=\"T_742eb_row4_col0\" class=\"data row4 col0\" >8</td>\n",
       "      <td id=\"T_742eb_row4_col1\" class=\"data row4 col1\" >190</td>\n",
       "      <td id=\"T_742eb_row4_col2\" class=\"data row4 col2\" >198</td>\n",
       "      <td id=\"T_742eb_row4_col3\" class=\"data row4 col3\" >0</td>\n",
       "      <td id=\"T_742eb_row4_col4\" class=\"data row4 col4\" >1</td>\n",
       "      <td id=\"T_742eb_row4_col5\" class=\"data row4 col5\" >0.000000</td>\n",
       "      <td id=\"T_742eb_row4_col6\" class=\"data row4 col6\" >None</td>\n",
       "      <td id=\"T_742eb_row4_col7\" class=\"data row4 col7\" >cig</td>\n",
       "    </tr>\n",
       "  </tbody>\n",
       "</table>\n"
      ],
      "text/plain": [
       "<pandas.io.formats.style.Styler at 0x73d312f7b280>"
      ]
     },
     "metadata": {},
     "output_type": "display_data"
    },
    {
     "name": "stdout",
     "output_type": "stream",
     "text": [
      "<class 'pandas.core.frame.DataFrame'>\n",
      "RangeIndex: 942 entries, 0 to 941\n",
      "Data columns (total 4 columns):\n",
      " #   Column   Non-Null Count  Dtype \n",
      "---  ------   --------------  ----- \n",
      " 0   upc      942 non-null    int64 \n",
      " 1   descrip  942 non-null    object\n",
      " 2   size     942 non-null    object\n",
      " 3   nitem    942 non-null    int64 \n",
      "dtypes: int64(2), object(2)\n",
      "memory usage: 29.6+ KB\n"
     ]
    },
    {
     "data": {
      "text/plain": [
       "None"
      ]
     },
     "metadata": {},
     "output_type": "display_data"
    },
    {
     "data": {
      "text/html": [
       "<style type=\"text/css\">\n",
       "</style>\n",
       "<table id=\"T_7448d\">\n",
       "  <caption>cig_upc head</caption>\n",
       "  <thead>\n",
       "    <tr>\n",
       "      <th class=\"blank level0\" >&nbsp;</th>\n",
       "      <th id=\"T_7448d_level0_col0\" class=\"col_heading level0 col0\" >upc</th>\n",
       "      <th id=\"T_7448d_level0_col1\" class=\"col_heading level0 col1\" >descrip</th>\n",
       "      <th id=\"T_7448d_level0_col2\" class=\"col_heading level0 col2\" >size</th>\n",
       "      <th id=\"T_7448d_level0_col3\" class=\"col_heading level0 col3\" >nitem</th>\n",
       "    </tr>\n",
       "  </thead>\n",
       "  <tbody>\n",
       "    <tr>\n",
       "      <th id=\"T_7448d_level0_row0\" class=\"row_heading level0 row0\" >0</th>\n",
       "      <td id=\"T_7448d_row0_col0\" class=\"data row0 col0\" >190</td>\n",
       "      <td id=\"T_7448d_row0_col1\" class=\"data row0 col1\" >KING CARTON CIGS (PL</td>\n",
       "      <td id=\"T_7448d_row0_col2\" class=\"data row0 col2\" >1 CT</td>\n",
       "      <td id=\"T_7448d_row0_col3\" class=\"data row0 col3\" >86040</td>\n",
       "    </tr>\n",
       "    <tr>\n",
       "      <th id=\"T_7448d_level0_row1\" class=\"row_heading level0 row1\" >1</th>\n",
       "      <td id=\"T_7448d_row1_col0\" class=\"data row1 col0\" >191</td>\n",
       "      <td id=\"T_7448d_row1_col1\" class=\"data row1 col1\" >100'S CARTON CIGS (P</td>\n",
       "      <td id=\"T_7448d_row1_col2\" class=\"data row1 col2\" >1 CT</td>\n",
       "      <td id=\"T_7448d_row1_col3\" class=\"data row1 col3\" >86060</td>\n",
       "    </tr>\n",
       "    <tr>\n",
       "      <th id=\"T_7448d_level0_row2\" class=\"row_heading level0 row2\" >2</th>\n",
       "      <td id=\"T_7448d_row2_col0\" class=\"data row2 col0\" >193</td>\n",
       "      <td id=\"T_7448d_row2_col1\" class=\"data row2 col1\" >25 CT SINGLE PACK CI</td>\n",
       "      <td id=\"T_7448d_row2_col2\" class=\"data row2 col2\" >1 CT</td>\n",
       "      <td id=\"T_7448d_row2_col3\" class=\"data row2 col3\" >80080</td>\n",
       "    </tr>\n",
       "    <tr>\n",
       "      <th id=\"T_7448d_level0_row3\" class=\"row_heading level0 row3\" >3</th>\n",
       "      <td id=\"T_7448d_row3_col0\" class=\"data row3 col0\" >194</td>\n",
       "      <td id=\"T_7448d_row3_col1\" class=\"data row3 col1\" >GENERIC SINGLE</td>\n",
       "      <td id=\"T_7448d_row3_col2\" class=\"data row3 col2\" >1 CT</td>\n",
       "      <td id=\"T_7448d_row3_col3\" class=\"data row3 col3\" >80020</td>\n",
       "    </tr>\n",
       "    <tr>\n",
       "      <th id=\"T_7448d_level0_row4\" class=\"row_heading level0 row4\" >4</th>\n",
       "      <td id=\"T_7448d_row4_col0\" class=\"data row4 col0\" >195</td>\n",
       "      <td id=\"T_7448d_row4_col1\" class=\"data row4 col1\" >KING CARTON PRICE VA</td>\n",
       "      <td id=\"T_7448d_row4_col2\" class=\"data row4 col2\" >1 CT</td>\n",
       "      <td id=\"T_7448d_row4_col3\" class=\"data row4 col3\" >86050</td>\n",
       "    </tr>\n",
       "  </tbody>\n",
       "</table>\n"
      ],
      "text/plain": [
       "<pandas.io.formats.style.Styler at 0x73d312f7b910>"
      ]
     },
     "metadata": {},
     "output_type": "display_data"
    }
   ],
   "source": [
    "\n",
    "display(cig_sales_df.info(),\n",
    "        cig_sales_df.head().style.set_caption('cig_sales head'))\n",
    "display(cig_upc_df.info(), \n",
    "        cig_upc_df.head().style.set_caption('cig_upc head')) "
   ]
  },
  {
   "cell_type": "markdown",
   "metadata": {},
   "source": [
    "---"
   ]
  },
  {
   "cell_type": "code",
   "execution_count": 15,
   "metadata": {},
   "outputs": [
    {
     "data": {
      "text/html": [
       "<style type=\"text/css\">\n",
       "</style>\n",
       "<table id=\"T_12a7d\">\n",
       "  <caption>demographics head</caption>\n",
       "  <thead>\n",
       "    <tr>\n",
       "      <th class=\"blank level0\" >&nbsp;</th>\n",
       "      <th id=\"T_12a7d_level0_col0\" class=\"col_heading level0 col0\" >store</th>\n",
       "      <th id=\"T_12a7d_level0_col1\" class=\"col_heading level0 col1\" >age60</th>\n",
       "      <th id=\"T_12a7d_level0_col2\" class=\"col_heading level0 col2\" >age9</th>\n",
       "      <th id=\"T_12a7d_level0_col3\" class=\"col_heading level0 col3\" >educ</th>\n",
       "      <th id=\"T_12a7d_level0_col4\" class=\"col_heading level0 col4\" >ethnic</th>\n",
       "      <th id=\"T_12a7d_level0_col5\" class=\"col_heading level0 col5\" >income</th>\n",
       "      <th id=\"T_12a7d_level0_col6\" class=\"col_heading level0 col6\" >hhlarge</th>\n",
       "      <th id=\"T_12a7d_level0_col7\" class=\"col_heading level0 col7\" >workwom</th>\n",
       "      <th id=\"T_12a7d_level0_col8\" class=\"col_heading level0 col8\" >hval150</th>\n",
       "      <th id=\"T_12a7d_level0_col9\" class=\"col_heading level0 col9\" >sstrdist</th>\n",
       "      <th id=\"T_12a7d_level0_col10\" class=\"col_heading level0 col10\" >sstrvol</th>\n",
       "      <th id=\"T_12a7d_level0_col11\" class=\"col_heading level0 col11\" >cpdist5</th>\n",
       "      <th id=\"T_12a7d_level0_col12\" class=\"col_heading level0 col12\" >cpwvol5</th>\n",
       "    </tr>\n",
       "  </thead>\n",
       "  <tbody>\n",
       "    <tr>\n",
       "      <th id=\"T_12a7d_level0_row0\" class=\"row_heading level0 row0\" >1</th>\n",
       "      <td id=\"T_12a7d_row0_col0\" class=\"data row0 col0\" >2.000000</td>\n",
       "      <td id=\"T_12a7d_row0_col1\" class=\"data row0 col1\" >0.232865</td>\n",
       "      <td id=\"T_12a7d_row0_col2\" class=\"data row0 col2\" >0.117509</td>\n",
       "      <td id=\"T_12a7d_row0_col3\" class=\"data row0 col3\" >0.248935</td>\n",
       "      <td id=\"T_12a7d_row0_col4\" class=\"data row0 col4\" >0.114280</td>\n",
       "      <td id=\"T_12a7d_row0_col5\" class=\"data row0 col5\" >10.553205</td>\n",
       "      <td id=\"T_12a7d_row0_col6\" class=\"data row0 col6\" >0.103953</td>\n",
       "      <td id=\"T_12a7d_row0_col7\" class=\"data row0 col7\" >0.303585</td>\n",
       "      <td id=\"T_12a7d_row0_col8\" class=\"data row0 col8\" >0.463887</td>\n",
       "      <td id=\"T_12a7d_row0_col9\" class=\"data row0 col9\" >2.110122</td>\n",
       "      <td id=\"T_12a7d_row0_col10\" class=\"data row0 col10\" >1.142857</td>\n",
       "      <td id=\"T_12a7d_row0_col11\" class=\"data row0 col11\" >1.927280</td>\n",
       "      <td id=\"T_12a7d_row0_col12\" class=\"data row0 col12\" >0.376927</td>\n",
       "    </tr>\n",
       "    <tr>\n",
       "      <th id=\"T_12a7d_level0_row1\" class=\"row_heading level0 row1\" >2</th>\n",
       "      <td id=\"T_12a7d_row1_col0\" class=\"data row1 col0\" >4.000000</td>\n",
       "      <td id=\"T_12a7d_row1_col1\" class=\"data row1 col1\" >0.262030</td>\n",
       "      <td id=\"T_12a7d_row1_col2\" class=\"data row1 col2\" >0.095090</td>\n",
       "      <td id=\"T_12a7d_row1_col3\" class=\"data row1 col3\" >0.220789</td>\n",
       "      <td id=\"T_12a7d_row1_col4\" class=\"data row1 col4\" >0.062161</td>\n",
       "      <td id=\"T_12a7d_row1_col5\" class=\"data row1 col5\" >10.646972</td>\n",
       "      <td id=\"T_12a7d_row1_col6\" class=\"data row1 col6\" >0.088123</td>\n",
       "      <td id=\"T_12a7d_row1_col7\" class=\"data row1 col7\" >0.362122</td>\n",
       "      <td id=\"T_12a7d_row1_col8\" class=\"data row1 col8\" >0.522236</td>\n",
       "      <td id=\"T_12a7d_row1_col9\" class=\"data row1 col9\" >2.373200</td>\n",
       "      <td id=\"T_12a7d_row1_col10\" class=\"data row1 col10\" >1.000000</td>\n",
       "      <td id=\"T_12a7d_row1_col11\" class=\"data row1 col11\" >1.104470</td>\n",
       "      <td id=\"T_12a7d_row1_col12\" class=\"data row1 col12\" >0.772489</td>\n",
       "    </tr>\n",
       "    <tr>\n",
       "      <th id=\"T_12a7d_level0_row2\" class=\"row_heading level0 row2\" >3</th>\n",
       "      <td id=\"T_12a7d_row2_col0\" class=\"data row2 col0\" >5.000000</td>\n",
       "      <td id=\"T_12a7d_row2_col1\" class=\"data row2 col1\" >0.117368</td>\n",
       "      <td id=\"T_12a7d_row2_col2\" class=\"data row2 col2\" >0.141433</td>\n",
       "      <td id=\"T_12a7d_row2_col3\" class=\"data row2 col3\" >0.321226</td>\n",
       "      <td id=\"T_12a7d_row2_col4\" class=\"data row2 col4\" >0.053875</td>\n",
       "      <td id=\"T_12a7d_row2_col5\" class=\"data row2 col5\" >10.922371</td>\n",
       "      <td id=\"T_12a7d_row2_col6\" class=\"data row2 col6\" >0.103092</td>\n",
       "      <td id=\"T_12a7d_row2_col7\" class=\"data row2 col7\" >0.410568</td>\n",
       "      <td id=\"T_12a7d_row2_col8\" class=\"data row2 col8\" >0.535883</td>\n",
       "      <td id=\"T_12a7d_row2_col9\" class=\"data row2 col9\" >3.801998</td>\n",
       "      <td id=\"T_12a7d_row2_col10\" class=\"data row2 col10\" >0.681818</td>\n",
       "      <td id=\"T_12a7d_row2_col11\" class=\"data row2 col11\" >1.600573</td>\n",
       "      <td id=\"T_12a7d_row2_col12\" class=\"data row2 col12\" >0.736307</td>\n",
       "    </tr>\n",
       "    <tr>\n",
       "      <th id=\"T_12a7d_level0_row3\" class=\"row_heading level0 row3\" >4</th>\n",
       "      <td id=\"T_12a7d_row3_col0\" class=\"data row3 col0\" >8.000000</td>\n",
       "      <td id=\"T_12a7d_row3_col1\" class=\"data row3 col1\" >0.252394</td>\n",
       "      <td id=\"T_12a7d_row3_col2\" class=\"data row3 col2\" >0.123155</td>\n",
       "      <td id=\"T_12a7d_row3_col3\" class=\"data row3 col3\" >0.095173</td>\n",
       "      <td id=\"T_12a7d_row3_col4\" class=\"data row3 col4\" >0.035243</td>\n",
       "      <td id=\"T_12a7d_row3_col5\" class=\"data row3 col5\" >10.597010</td>\n",
       "      <td id=\"T_12a7d_row3_col6\" class=\"data row3 col6\" >0.131750</td>\n",
       "      <td id=\"T_12a7d_row3_col7\" class=\"data row3 col7\" >0.283075</td>\n",
       "      <td id=\"T_12a7d_row3_col8\" class=\"data row3 col8\" >0.054227</td>\n",
       "      <td id=\"T_12a7d_row3_col9\" class=\"data row3 col9\" >2.636333</td>\n",
       "      <td id=\"T_12a7d_row3_col10\" class=\"data row3 col10\" >1.500000</td>\n",
       "      <td id=\"T_12a7d_row3_col11\" class=\"data row3 col11\" >2.905384</td>\n",
       "      <td id=\"T_12a7d_row3_col12\" class=\"data row3 col12\" >0.641016</td>\n",
       "    </tr>\n",
       "    <tr>\n",
       "      <th id=\"T_12a7d_level0_row4\" class=\"row_heading level0 row4\" >5</th>\n",
       "      <td id=\"T_12a7d_row4_col0\" class=\"data row4 col0\" >9.000000</td>\n",
       "      <td id=\"T_12a7d_row4_col1\" class=\"data row4 col1\" >0.269119</td>\n",
       "      <td id=\"T_12a7d_row4_col2\" class=\"data row4 col2\" >0.103503</td>\n",
       "      <td id=\"T_12a7d_row4_col3\" class=\"data row4 col3\" >0.222172</td>\n",
       "      <td id=\"T_12a7d_row4_col4\" class=\"data row4 col4\" >0.032619</td>\n",
       "      <td id=\"T_12a7d_row4_col5\" class=\"data row4 col5\" >10.787151</td>\n",
       "      <td id=\"T_12a7d_row4_col6\" class=\"data row4 col6\" >0.096830</td>\n",
       "      <td id=\"T_12a7d_row4_col7\" class=\"data row4 col7\" >0.358995</td>\n",
       "      <td id=\"T_12a7d_row4_col8\" class=\"data row4 col8\" >0.505747</td>\n",
       "      <td id=\"T_12a7d_row4_col9\" class=\"data row4 col9\" >1.103279</td>\n",
       "      <td id=\"T_12a7d_row4_col10\" class=\"data row4 col10\" >0.666667</td>\n",
       "      <td id=\"T_12a7d_row4_col11\" class=\"data row4 col11\" >1.820474</td>\n",
       "      <td id=\"T_12a7d_row4_col12\" class=\"data row4 col12\" >0.441268</td>\n",
       "    </tr>\n",
       "  </tbody>\n",
       "</table>\n"
      ],
      "text/plain": [
       "<pandas.io.formats.style.Styler at 0x73d314d85780>"
      ]
     },
     "metadata": {},
     "output_type": "display_data"
    },
    {
     "name": "stdout",
     "output_type": "stream",
     "text": [
      "<class 'pandas.core.frame.DataFrame'>\n",
      "Index: 107 entries, 1 to 107\n",
      "Data columns (total 13 columns):\n",
      " #   Column    Non-Null Count  Dtype  \n",
      "---  ------    --------------  -----  \n",
      " 0   store     107 non-null    float64\n",
      " 1   age60     97 non-null     float32\n",
      " 2   age9      97 non-null     float32\n",
      " 3   educ      97 non-null     float32\n",
      " 4   ethnic    97 non-null     float32\n",
      " 5   income    97 non-null     float32\n",
      " 6   hhlarge   97 non-null     float32\n",
      " 7   workwom   97 non-null     float32\n",
      " 8   hval150   97 non-null     float32\n",
      " 9   sstrdist  85 non-null     float32\n",
      " 10  sstrvol   85 non-null     float32\n",
      " 11  cpdist5   85 non-null     float32\n",
      " 12  cpwvol5   85 non-null     float32\n",
      "dtypes: float32(12), float64(1)\n",
      "memory usage: 6.7 KB\n"
     ]
    },
    {
     "data": {
      "text/plain": [
       "None"
      ]
     },
     "metadata": {},
     "output_type": "display_data"
    }
   ],
   "source": [
    "\n",
    "display(demographics_df.head().style.set_caption('demographics head'))\n",
    "display(demographics_df.info())"
   ]
  },
  {
   "cell_type": "code",
   "execution_count": 16,
   "metadata": {},
   "outputs": [
    {
     "data": {
      "text/html": [
       "<div>\n",
       "<style scoped>\n",
       "    .dataframe tbody tr th:only-of-type {\n",
       "        vertical-align: middle;\n",
       "    }\n",
       "\n",
       "    .dataframe tbody tr th {\n",
       "        vertical-align: top;\n",
       "    }\n",
       "\n",
       "    .dataframe thead th {\n",
       "        text-align: right;\n",
       "    }\n",
       "</style>\n",
       "<table border=\"1\" class=\"dataframe\">\n",
       "  <thead>\n",
       "    <tr style=\"text-align: right;\">\n",
       "      <th></th>\n",
       "      <th>ana_sales_df</th>\n",
       "      <th>beer_sales_df</th>\n",
       "      <th>cig_sales_df</th>\n",
       "    </tr>\n",
       "  </thead>\n",
       "  <tbody>\n",
       "    <tr>\n",
       "      <th>store</th>\n",
       "      <td>0</td>\n",
       "      <td>0</td>\n",
       "      <td>0</td>\n",
       "    </tr>\n",
       "    <tr>\n",
       "      <th>upc</th>\n",
       "      <td>0</td>\n",
       "      <td>0</td>\n",
       "      <td>0</td>\n",
       "    </tr>\n",
       "    <tr>\n",
       "      <th>week</th>\n",
       "      <td>0</td>\n",
       "      <td>0</td>\n",
       "      <td>0</td>\n",
       "    </tr>\n",
       "    <tr>\n",
       "      <th>move</th>\n",
       "      <td>0</td>\n",
       "      <td>0</td>\n",
       "      <td>0</td>\n",
       "    </tr>\n",
       "    <tr>\n",
       "      <th>qty</th>\n",
       "      <td>0</td>\n",
       "      <td>0</td>\n",
       "      <td>0</td>\n",
       "    </tr>\n",
       "    <tr>\n",
       "      <th>price</th>\n",
       "      <td>0</td>\n",
       "      <td>0</td>\n",
       "      <td>0</td>\n",
       "    </tr>\n",
       "    <tr>\n",
       "      <th>sale</th>\n",
       "      <td>6979032</td>\n",
       "      <td>3420284</td>\n",
       "      <td>5331348</td>\n",
       "    </tr>\n",
       "    <tr>\n",
       "      <th>product_name</th>\n",
       "      <td>0</td>\n",
       "      <td>0</td>\n",
       "      <td>0</td>\n",
       "    </tr>\n",
       "  </tbody>\n",
       "</table>\n",
       "</div>"
      ],
      "text/plain": [
       "              ana_sales_df  beer_sales_df  cig_sales_df\n",
       "store                    0              0             0\n",
       "upc                      0              0             0\n",
       "week                     0              0             0\n",
       "move                     0              0             0\n",
       "qty                      0              0             0\n",
       "price                    0              0             0\n",
       "sale               6979032        3420284       5331348\n",
       "product_name             0              0             0"
      ]
     },
     "execution_count": 16,
     "metadata": {},
     "output_type": "execute_result"
    }
   ],
   "source": [
    "sales_result = pd.concat([\n",
    "    ana_sales_df.isna().sum().rename(\"ana_sales_df\"),\n",
    "    beer_sales_df.isna().sum().rename(\"beer_sales_df\"),\n",
    "    cig_sales_df.isna().sum().rename(\"cig_sales_df\")\n",
    "], axis=1)\n",
    "\n",
    "upc_result = pd.concat([\n",
    "    ana_upc_df.isna().sum().rename(\"ana_upc_df\"),\n",
    "    beer_upc_df.isna().sum().rename(\"beer_upc_df\"),\n",
    "    cig_upc_df.isna().sum().rename(\"cig_upc_df\")\n",
    "], axis=1)\n",
    "\n",
    "demographics_result = demographics_df.isna().sum().rename(\"demographics_df\")\n",
    "\n",
    "upc_result\n",
    "demographics_result\n",
    "sales_result"
   ]
  },
  {
   "cell_type": "code",
   "execution_count": 17,
   "metadata": {},
   "outputs": [
    {
     "data": {
      "image/png": "[encoded data removed]",
      "text/plain": [
       "<Figure size 1500x1400 with 3 Axes>"
      ]
     },
     "metadata": {},
     "output_type": "display_data"
    }
   ],
   "source": [
    "plt.figure(figsize=(15, 14))\n",
    "for iter, col in enumerate(['week','price', 'sale'], 1):\n",
    "    plt.subplot(2, 3, iter)\n",
    "    \n",
    "    if col == 'week': bins = 80\n",
    "    else: bins = 40\n",
    "    \n",
    "    sns.histplot(data=ana_sales_df, x=col, bins=bins, color = 'green')\n",
    "    plt.title(f'Распределение {col}')\n",
    "plt.show()"
   ]
  },
  {
   "cell_type": "code",
   "execution_count": 18,
   "metadata": {},
   "outputs": [
    {
     "data": {
      "image/png": "[encoded data removed]",
      "text/plain": [
       "<Figure size 4000x1000 with 1 Axes>"
      ]
     },
     "metadata": {},
     "output_type": "display_data"
    }
   ],
   "source": [
    "plt.figure(figsize=(40, 10))\n",
    "\n",
    "for iter, col in enumerate(ana_features_upc[1:], 1):\n",
    "    plt.subplot(2, 3, iter)\n",
    "    sns.histplot(data=ana_upc_df, x=col, bins=100, color = 'green')\n",
    "    plt.title(f'Распределение {col}')\n",
    "    plt.xticks(rotation=90, ha='right')\n",
    "plt.tight_layout()\n",
    "plt.show()"
   ]
  },
  {
   "cell_type": "markdown",
   "metadata": {},
   "source": [
    "### `ana_sales_df['price']`\n",
    "Уберем неадеватные значения цены (ниже 0.5$). Для этого посмотрим распределение цен"
   ]
  },
  {
   "cell_type": "code",
   "execution_count": 19,
   "metadata": {},
   "outputs": [
    {
     "data": {
      "text/plain": [
       "count    7.241655e+06\n",
       "mean     2.176140e+00\n",
       "std      2.981170e+00\n",
       "min      0.000000e+00\n",
       "25%      0.000000e+00\n",
       "50%      0.000000e+00\n",
       "75%      4.190000e+00\n",
       "max      2.369000e+01\n",
       "Name: price, dtype: float64"
      ]
     },
     "execution_count": 19,
     "metadata": {},
     "output_type": "execute_result"
    },
    {
     "data": {
      "image/png": "[encoded data removed]",
      "text/plain": [
       "<Figure size 640x480 with 1 Axes>"
      ]
     },
     "metadata": {},
     "output_type": "display_data"
    }
   ],
   "source": [
    "plt.hist(ana_sales_df['price'], bins=80)   \n",
    "ana_sales_df['price'].describe()"
   ]
  },
  {
   "cell_type": "markdown",
   "metadata": {},
   "source": [
    "По данному выводу видно, что медиана равна 0. Тут явно есть проблема с нулевыми значениями поля `price`.\n",
    "\n",
    "В данных имеется явный шум, скорее всего связанный с неправильно забитыми данными. \n",
    "Шум составляет 57% от общего числа объектов, но засчёт того, что остается ~ 4e+6 корректных объектов в выборке, мы можем устранить из выборки объекты с 0 в поле `price`, улучшив качество модели.\n",
    "\n",
    "В случае, если указана цена с учетом скидки, то можно было бы оправдать такое количество полей `price` со значением 0, но если посмотреть на график распределения скидок, то мы видим, что товара со значением `sales` = 'B' or 'C' - не более 2.5e+5.  \n"
   ]
  },
  {
   "cell_type": "code",
   "execution_count": 20,
   "metadata": {},
   "outputs": [
    {
     "ename": "KeyboardInterrupt",
     "evalue": "",
     "output_type": "error",
     "traceback": [
      "\u001b[0;31m---------------------------------------------------------------------------\u001b[0m",
      "\u001b[0;31mKeyboardInterrupt\u001b[0m                         Traceback (most recent call last)",
      "Cell \u001b[0;32mIn[20], line 4\u001b[0m\n\u001b[1;32m      1\u001b[0m blowout_price_rows \u001b[38;5;241m=\u001b[39m (ana_sales_df[\u001b[38;5;124m'\u001b[39m\u001b[38;5;124mprice\u001b[39m\u001b[38;5;124m'\u001b[39m] \u001b[38;5;241m==\u001b[39m \u001b[38;5;241m0\u001b[39m) \u001b[38;5;66;03m# in dollars \u001b[39;00m\n\u001b[1;32m      2\u001b[0m ana_sales_df\u001b[38;5;241m.\u001b[39mdrop(ana_sales_df[blowout_price_rows]\u001b[38;5;241m.\u001b[39mindex, inplace\u001b[38;5;241m=\u001b[39m\u001b[38;5;28;01mTrue\u001b[39;00m)\n\u001b[0;32m----> 4\u001b[0m \u001b[43mplt\u001b[49m\u001b[38;5;241;43m.\u001b[39;49m\u001b[43mhist\u001b[49m\u001b[43m(\u001b[49m\u001b[43mana_sales_df\u001b[49m\u001b[43m[\u001b[49m\u001b[38;5;124;43m'\u001b[39;49m\u001b[38;5;124;43mprice\u001b[39;49m\u001b[38;5;124;43m'\u001b[39;49m\u001b[43m]\u001b[49m\u001b[43m,\u001b[49m\u001b[43m \u001b[49m\u001b[43mbins\u001b[49m\u001b[38;5;241;43m=\u001b[39;49m\u001b[38;5;241;43m80\u001b[39;49m\u001b[43m)\u001b[49m\n\u001b[1;32m      5\u001b[0m plt\u001b[38;5;241m.\u001b[39mtitle(\u001b[38;5;124m'\u001b[39m\u001b[38;5;124mPrices of analgesics sales\u001b[39m\u001b[38;5;124m'\u001b[39m)\n\u001b[1;32m      6\u001b[0m plt\u001b[38;5;241m.\u001b[39mxlabel(\u001b[38;5;124m'\u001b[39m\u001b[38;5;124mPrice\u001b[39m\u001b[38;5;124m'\u001b[39m)\n",
      "File \u001b[0;32m~/Desktop/projects/test_project/.venv/lib/python3.10/site-packages/matplotlib/pyplot.py:3440\u001b[0m, in \u001b[0;36mhist\u001b[0;34m(x, bins, range, density, weights, cumulative, bottom, histtype, align, orientation, rwidth, log, color, label, stacked, data, **kwargs)\u001b[0m\n\u001b[1;32m   3415\u001b[0m \u001b[38;5;129m@_copy_docstring_and_deprecators\u001b[39m(Axes\u001b[38;5;241m.\u001b[39mhist)\n\u001b[1;32m   3416\u001b[0m \u001b[38;5;28;01mdef\u001b[39;00m \u001b[38;5;21mhist\u001b[39m(\n\u001b[1;32m   3417\u001b[0m     x: ArrayLike \u001b[38;5;241m|\u001b[39m Sequence[ArrayLike],\n\u001b[0;32m   (...)\u001b[0m\n\u001b[1;32m   3438\u001b[0m     BarContainer \u001b[38;5;241m|\u001b[39m Polygon \u001b[38;5;241m|\u001b[39m \u001b[38;5;28mlist\u001b[39m[BarContainer \u001b[38;5;241m|\u001b[39m Polygon],\n\u001b[1;32m   3439\u001b[0m ]:\n\u001b[0;32m-> 3440\u001b[0m     \u001b[38;5;28;01mreturn\u001b[39;00m \u001b[43mgca\u001b[49m\u001b[43m(\u001b[49m\u001b[43m)\u001b[49m\u001b[38;5;241;43m.\u001b[39;49m\u001b[43mhist\u001b[49m\u001b[43m(\u001b[49m\n\u001b[1;32m   3441\u001b[0m \u001b[43m        \u001b[49m\u001b[43mx\u001b[49m\u001b[43m,\u001b[49m\n\u001b[1;32m   3442\u001b[0m \u001b[43m        \u001b[49m\u001b[43mbins\u001b[49m\u001b[38;5;241;43m=\u001b[39;49m\u001b[43mbins\u001b[49m\u001b[43m,\u001b[49m\n\u001b[1;32m   3443\u001b[0m \u001b[43m        \u001b[49m\u001b[38;5;28;43mrange\u001b[39;49m\u001b[38;5;241;43m=\u001b[39;49m\u001b[38;5;28;43mrange\u001b[39;49m\u001b[43m,\u001b[49m\n\u001b[1;32m   3444\u001b[0m \u001b[43m        \u001b[49m\u001b[43mdensity\u001b[49m\u001b[38;5;241;43m=\u001b[39;49m\u001b[43mdensity\u001b[49m\u001b[43m,\u001b[49m\n\u001b[1;32m   3445\u001b[0m \u001b[43m        \u001b[49m\u001b[43mweights\u001b[49m\u001b[38;5;241;43m=\u001b[39;49m\u001b[43mweights\u001b[49m\u001b[43m,\u001b[49m\n\u001b[1;32m   3446\u001b[0m \u001b[43m        \u001b[49m\u001b[43mcumulative\u001b[49m\u001b[38;5;241;43m=\u001b[39;49m\u001b[43mcumulative\u001b[49m\u001b[43m,\u001b[49m\n\u001b[1;32m   3447\u001b[0m \u001b[43m        \u001b[49m\u001b[43mbottom\u001b[49m\u001b[38;5;241;43m=\u001b[39;49m\u001b[43mbottom\u001b[49m\u001b[43m,\u001b[49m\n\u001b[1;32m   3448\u001b[0m \u001b[43m        \u001b[49m\u001b[43mhisttype\u001b[49m\u001b[38;5;241;43m=\u001b[39;49m\u001b[43mhisttype\u001b[49m\u001b[43m,\u001b[49m\n\u001b[1;32m   3449\u001b[0m \u001b[43m        \u001b[49m\u001b[43malign\u001b[49m\u001b[38;5;241;43m=\u001b[39;49m\u001b[43malign\u001b[49m\u001b[43m,\u001b[49m\n\u001b[1;32m   3450\u001b[0m \u001b[43m        \u001b[49m\u001b[43morientation\u001b[49m\u001b[38;5;241;43m=\u001b[39;49m\u001b[43morientation\u001b[49m\u001b[43m,\u001b[49m\n\u001b[1;32m   3451\u001b[0m \u001b[43m        \u001b[49m\u001b[43mrwidth\u001b[49m\u001b[38;5;241;43m=\u001b[39;49m\u001b[43mrwidth\u001b[49m\u001b[43m,\u001b[49m\n\u001b[1;32m   3452\u001b[0m \u001b[43m        \u001b[49m\u001b[43mlog\u001b[49m\u001b[38;5;241;43m=\u001b[39;49m\u001b[43mlog\u001b[49m\u001b[43m,\u001b[49m\n\u001b[1;32m   3453\u001b[0m \u001b[43m        \u001b[49m\u001b[43mcolor\u001b[49m\u001b[38;5;241;43m=\u001b[39;49m\u001b[43mcolor\u001b[49m\u001b[43m,\u001b[49m\n\u001b[1;32m   3454\u001b[0m \u001b[43m        \u001b[49m\u001b[43mlabel\u001b[49m\u001b[38;5;241;43m=\u001b[39;49m\u001b[43mlabel\u001b[49m\u001b[43m,\u001b[49m\n\u001b[1;32m   3455\u001b[0m \u001b[43m        \u001b[49m\u001b[43mstacked\u001b[49m\u001b[38;5;241;43m=\u001b[39;49m\u001b[43mstacked\u001b[49m\u001b[43m,\u001b[49m\n\u001b[1;32m   3456\u001b[0m \u001b[43m        \u001b[49m\u001b[38;5;241;43m*\u001b[39;49m\u001b[38;5;241;43m*\u001b[39;49m\u001b[43m(\u001b[49m\u001b[43m{\u001b[49m\u001b[38;5;124;43m\"\u001b[39;49m\u001b[38;5;124;43mdata\u001b[39;49m\u001b[38;5;124;43m\"\u001b[39;49m\u001b[43m:\u001b[49m\u001b[43m \u001b[49m\u001b[43mdata\u001b[49m\u001b[43m}\u001b[49m\u001b[43m \u001b[49m\u001b[38;5;28;43;01mif\u001b[39;49;00m\u001b[43m \u001b[49m\u001b[43mdata\u001b[49m\u001b[43m \u001b[49m\u001b[38;5;129;43;01mis\u001b[39;49;00m\u001b[43m \u001b[49m\u001b[38;5;129;43;01mnot\u001b[39;49;00m\u001b[43m \u001b[49m\u001b[38;5;28;43;01mNone\u001b[39;49;00m\u001b[43m \u001b[49m\u001b[38;5;28;43;01melse\u001b[39;49;00m\u001b[43m \u001b[49m\u001b[43m{\u001b[49m\u001b[43m}\u001b[49m\u001b[43m)\u001b[49m\u001b[43m,\u001b[49m\n\u001b[1;32m   3457\u001b[0m \u001b[43m        \u001b[49m\u001b[38;5;241;43m*\u001b[39;49m\u001b[38;5;241;43m*\u001b[39;49m\u001b[43mkwargs\u001b[49m\u001b[43m,\u001b[49m\n\u001b[1;32m   3458\u001b[0m \u001b[43m    \u001b[49m\u001b[43m)\u001b[49m\n",
      "File \u001b[0;32m~/Desktop/projects/test_project/.venv/lib/python3.10/site-packages/matplotlib/__init__.py:1476\u001b[0m, in \u001b[0;36m_preprocess_data.<locals>.inner\u001b[0;34m(ax, data, *args, **kwargs)\u001b[0m\n\u001b[1;32m   1473\u001b[0m \u001b[38;5;129m@functools\u001b[39m\u001b[38;5;241m.\u001b[39mwraps(func)\n\u001b[1;32m   1474\u001b[0m \u001b[38;5;28;01mdef\u001b[39;00m \u001b[38;5;21minner\u001b[39m(ax, \u001b[38;5;241m*\u001b[39margs, data\u001b[38;5;241m=\u001b[39m\u001b[38;5;28;01mNone\u001b[39;00m, \u001b[38;5;241m*\u001b[39m\u001b[38;5;241m*\u001b[39mkwargs):\n\u001b[1;32m   1475\u001b[0m     \u001b[38;5;28;01mif\u001b[39;00m data \u001b[38;5;129;01mis\u001b[39;00m \u001b[38;5;28;01mNone\u001b[39;00m:\n\u001b[0;32m-> 1476\u001b[0m         \u001b[38;5;28;01mreturn\u001b[39;00m \u001b[43mfunc\u001b[49m\u001b[43m(\u001b[49m\n\u001b[1;32m   1477\u001b[0m \u001b[43m            \u001b[49m\u001b[43max\u001b[49m\u001b[43m,\u001b[49m\n\u001b[1;32m   1478\u001b[0m \u001b[43m            \u001b[49m\u001b[38;5;241;43m*\u001b[39;49m\u001b[38;5;28;43mmap\u001b[39;49m\u001b[43m(\u001b[49m\u001b[43msanitize_sequence\u001b[49m\u001b[43m,\u001b[49m\u001b[43m \u001b[49m\u001b[43margs\u001b[49m\u001b[43m)\u001b[49m\u001b[43m,\u001b[49m\n\u001b[1;32m   1479\u001b[0m \u001b[43m            \u001b[49m\u001b[38;5;241;43m*\u001b[39;49m\u001b[38;5;241;43m*\u001b[39;49m\u001b[43m{\u001b[49m\u001b[43mk\u001b[49m\u001b[43m:\u001b[49m\u001b[43m \u001b[49m\u001b[43msanitize_sequence\u001b[49m\u001b[43m(\u001b[49m\u001b[43mv\u001b[49m\u001b[43m)\u001b[49m\u001b[43m \u001b[49m\u001b[38;5;28;43;01mfor\u001b[39;49;00m\u001b[43m \u001b[49m\u001b[43mk\u001b[49m\u001b[43m,\u001b[49m\u001b[43m \u001b[49m\u001b[43mv\u001b[49m\u001b[43m \u001b[49m\u001b[38;5;129;43;01min\u001b[39;49;00m\u001b[43m \u001b[49m\u001b[43mkwargs\u001b[49m\u001b[38;5;241;43m.\u001b[39;49m\u001b[43mitems\u001b[49m\u001b[43m(\u001b[49m\u001b[43m)\u001b[49m\u001b[43m}\u001b[49m\u001b[43m)\u001b[49m\n\u001b[1;32m   1481\u001b[0m     bound \u001b[38;5;241m=\u001b[39m new_sig\u001b[38;5;241m.\u001b[39mbind(ax, \u001b[38;5;241m*\u001b[39margs, \u001b[38;5;241m*\u001b[39m\u001b[38;5;241m*\u001b[39mkwargs)\n\u001b[1;32m   1482\u001b[0m     auto_label \u001b[38;5;241m=\u001b[39m (bound\u001b[38;5;241m.\u001b[39marguments\u001b[38;5;241m.\u001b[39mget(label_namer)\n\u001b[1;32m   1483\u001b[0m                   \u001b[38;5;129;01mor\u001b[39;00m bound\u001b[38;5;241m.\u001b[39mkwargs\u001b[38;5;241m.\u001b[39mget(label_namer))\n",
      "File \u001b[0;32m~/Desktop/projects/test_project/.venv/lib/python3.10/site-packages/matplotlib/axes/_axes.py:7061\u001b[0m, in \u001b[0;36mAxes.hist\u001b[0;34m(self, x, bins, range, density, weights, cumulative, bottom, histtype, align, orientation, rwidth, log, color, label, stacked, **kwargs)\u001b[0m\n\u001b[1;32m   7059\u001b[0m \u001b[38;5;28;01melse\u001b[39;00m:\n\u001b[1;32m   7060\u001b[0m     height \u001b[38;5;241m=\u001b[39m top\n\u001b[0;32m-> 7061\u001b[0m bars \u001b[38;5;241m=\u001b[39m \u001b[43m_barfunc\u001b[49m\u001b[43m(\u001b[49m\u001b[43mbins\u001b[49m\u001b[43m[\u001b[49m\u001b[43m:\u001b[49m\u001b[38;5;241;43m-\u001b[39;49m\u001b[38;5;241;43m1\u001b[39;49m\u001b[43m]\u001b[49m\u001b[38;5;241;43m+\u001b[39;49m\u001b[43mboffset\u001b[49m\u001b[43m,\u001b[49m\u001b[43m \u001b[49m\u001b[43mheight\u001b[49m\u001b[43m,\u001b[49m\u001b[43m \u001b[49m\u001b[43mwidth\u001b[49m\u001b[43m,\u001b[49m\n\u001b[1;32m   7062\u001b[0m \u001b[43m                \u001b[49m\u001b[43malign\u001b[49m\u001b[38;5;241;43m=\u001b[39;49m\u001b[38;5;124;43m'\u001b[39;49m\u001b[38;5;124;43mcenter\u001b[39;49m\u001b[38;5;124;43m'\u001b[39;49m\u001b[43m,\u001b[49m\u001b[43m \u001b[49m\u001b[43mlog\u001b[49m\u001b[38;5;241;43m=\u001b[39;49m\u001b[43mlog\u001b[49m\u001b[43m,\u001b[49m\n\u001b[1;32m   7063\u001b[0m \u001b[43m                \u001b[49m\u001b[43mcolor\u001b[49m\u001b[38;5;241;43m=\u001b[39;49m\u001b[43mcolor\u001b[49m\u001b[43m,\u001b[49m\u001b[43m \u001b[49m\u001b[38;5;241;43m*\u001b[39;49m\u001b[38;5;241;43m*\u001b[39;49m\u001b[43m{\u001b[49m\u001b[43mbottom_kwarg\u001b[49m\u001b[43m:\u001b[49m\u001b[43m \u001b[49m\u001b[43mbottom\u001b[49m\u001b[43m}\u001b[49m\u001b[43m)\u001b[49m\n\u001b[1;32m   7064\u001b[0m patches\u001b[38;5;241m.\u001b[39mappend(bars)\n\u001b[1;32m   7065\u001b[0m \u001b[38;5;28;01mif\u001b[39;00m stacked:\n",
      "File \u001b[0;32m~/Desktop/projects/test_project/.venv/lib/python3.10/site-packages/matplotlib/__init__.py:1476\u001b[0m, in \u001b[0;36m_preprocess_data.<locals>.inner\u001b[0;34m(ax, data, *args, **kwargs)\u001b[0m\n\u001b[1;32m   1473\u001b[0m \u001b[38;5;129m@functools\u001b[39m\u001b[38;5;241m.\u001b[39mwraps(func)\n\u001b[1;32m   1474\u001b[0m \u001b[38;5;28;01mdef\u001b[39;00m \u001b[38;5;21minner\u001b[39m(ax, \u001b[38;5;241m*\u001b[39margs, data\u001b[38;5;241m=\u001b[39m\u001b[38;5;28;01mNone\u001b[39;00m, \u001b[38;5;241m*\u001b[39m\u001b[38;5;241m*\u001b[39mkwargs):\n\u001b[1;32m   1475\u001b[0m     \u001b[38;5;28;01mif\u001b[39;00m data \u001b[38;5;129;01mis\u001b[39;00m \u001b[38;5;28;01mNone\u001b[39;00m:\n\u001b[0;32m-> 1476\u001b[0m         \u001b[38;5;28;01mreturn\u001b[39;00m \u001b[43mfunc\u001b[49m\u001b[43m(\u001b[49m\n\u001b[1;32m   1477\u001b[0m \u001b[43m            \u001b[49m\u001b[43max\u001b[49m\u001b[43m,\u001b[49m\n\u001b[1;32m   1478\u001b[0m \u001b[43m            \u001b[49m\u001b[38;5;241;43m*\u001b[39;49m\u001b[38;5;28;43mmap\u001b[39;49m\u001b[43m(\u001b[49m\u001b[43msanitize_sequence\u001b[49m\u001b[43m,\u001b[49m\u001b[43m \u001b[49m\u001b[43margs\u001b[49m\u001b[43m)\u001b[49m\u001b[43m,\u001b[49m\n\u001b[1;32m   1479\u001b[0m \u001b[43m            \u001b[49m\u001b[38;5;241;43m*\u001b[39;49m\u001b[38;5;241;43m*\u001b[39;49m\u001b[43m{\u001b[49m\u001b[43mk\u001b[49m\u001b[43m:\u001b[49m\u001b[43m \u001b[49m\u001b[43msanitize_sequence\u001b[49m\u001b[43m(\u001b[49m\u001b[43mv\u001b[49m\u001b[43m)\u001b[49m\u001b[43m \u001b[49m\u001b[38;5;28;43;01mfor\u001b[39;49;00m\u001b[43m \u001b[49m\u001b[43mk\u001b[49m\u001b[43m,\u001b[49m\u001b[43m \u001b[49m\u001b[43mv\u001b[49m\u001b[43m \u001b[49m\u001b[38;5;129;43;01min\u001b[39;49;00m\u001b[43m \u001b[49m\u001b[43mkwargs\u001b[49m\u001b[38;5;241;43m.\u001b[39;49m\u001b[43mitems\u001b[49m\u001b[43m(\u001b[49m\u001b[43m)\u001b[49m\u001b[43m}\u001b[49m\u001b[43m)\u001b[49m\n\u001b[1;32m   1481\u001b[0m     bound \u001b[38;5;241m=\u001b[39m new_sig\u001b[38;5;241m.\u001b[39mbind(ax, \u001b[38;5;241m*\u001b[39margs, \u001b[38;5;241m*\u001b[39m\u001b[38;5;241m*\u001b[39mkwargs)\n\u001b[1;32m   1482\u001b[0m     auto_label \u001b[38;5;241m=\u001b[39m (bound\u001b[38;5;241m.\u001b[39marguments\u001b[38;5;241m.\u001b[39mget(label_namer)\n\u001b[1;32m   1483\u001b[0m                   \u001b[38;5;129;01mor\u001b[39;00m bound\u001b[38;5;241m.\u001b[39mkwargs\u001b[38;5;241m.\u001b[39mget(label_namer))\n",
      "File \u001b[0;32m~/Desktop/projects/test_project/.venv/lib/python3.10/site-packages/matplotlib/axes/_axes.py:2597\u001b[0m, in \u001b[0;36mAxes.bar\u001b[0;34m(self, x, height, width, bottom, align, **kwargs)\u001b[0m\n\u001b[1;32m   2595\u001b[0m     \u001b[38;5;28;01melse\u001b[39;00m:  \u001b[38;5;66;03m# horizontal\u001b[39;00m\n\u001b[1;32m   2596\u001b[0m         r\u001b[38;5;241m.\u001b[39msticky_edges\u001b[38;5;241m.\u001b[39mx\u001b[38;5;241m.\u001b[39mappend(l)\n\u001b[0;32m-> 2597\u001b[0m     \u001b[38;5;28;43mself\u001b[39;49m\u001b[38;5;241;43m.\u001b[39;49m\u001b[43madd_patch\u001b[49m\u001b[43m(\u001b[49m\u001b[43mr\u001b[49m\u001b[43m)\u001b[49m\n\u001b[1;32m   2598\u001b[0m     patches\u001b[38;5;241m.\u001b[39mappend(r)\n\u001b[1;32m   2600\u001b[0m \u001b[38;5;28;01mif\u001b[39;00m xerr \u001b[38;5;129;01mis\u001b[39;00m \u001b[38;5;129;01mnot\u001b[39;00m \u001b[38;5;28;01mNone\u001b[39;00m \u001b[38;5;129;01mor\u001b[39;00m yerr \u001b[38;5;129;01mis\u001b[39;00m \u001b[38;5;129;01mnot\u001b[39;00m \u001b[38;5;28;01mNone\u001b[39;00m:\n",
      "File \u001b[0;32m~/Desktop/projects/test_project/.venv/lib/python3.10/site-packages/matplotlib/axes/_base.py:2413\u001b[0m, in \u001b[0;36m_AxesBase.add_patch\u001b[0;34m(self, p)\u001b[0m\n\u001b[1;32m   2411\u001b[0m \u001b[38;5;28mself\u001b[39m\u001b[38;5;241m.\u001b[39m_set_artist_props(p)\n\u001b[1;32m   2412\u001b[0m \u001b[38;5;28;01mif\u001b[39;00m p\u001b[38;5;241m.\u001b[39mget_clip_path() \u001b[38;5;129;01mis\u001b[39;00m \u001b[38;5;28;01mNone\u001b[39;00m:\n\u001b[0;32m-> 2413\u001b[0m     \u001b[43mp\u001b[49m\u001b[38;5;241;43m.\u001b[39;49m\u001b[43mset_clip_path\u001b[49m\u001b[43m(\u001b[49m\u001b[38;5;28;43mself\u001b[39;49m\u001b[38;5;241;43m.\u001b[39;49m\u001b[43mpatch\u001b[49m\u001b[43m)\u001b[49m\n\u001b[1;32m   2414\u001b[0m \u001b[38;5;28mself\u001b[39m\u001b[38;5;241m.\u001b[39m_update_patch_limits(p)\n\u001b[1;32m   2415\u001b[0m \u001b[38;5;28mself\u001b[39m\u001b[38;5;241m.\u001b[39m_children\u001b[38;5;241m.\u001b[39mappend(p)\n",
      "File \u001b[0;32m~/Desktop/projects/test_project/.venv/lib/python3.10/site-packages/matplotlib/artist.py:798\u001b[0m, in \u001b[0;36mArtist.set_clip_path\u001b[0;34m(self, path, transform)\u001b[0m\n\u001b[1;32m    796\u001b[0m success \u001b[38;5;241m=\u001b[39m \u001b[38;5;28;01mFalse\u001b[39;00m\n\u001b[1;32m    797\u001b[0m \u001b[38;5;28;01mif\u001b[39;00m transform \u001b[38;5;129;01mis\u001b[39;00m \u001b[38;5;28;01mNone\u001b[39;00m:\n\u001b[0;32m--> 798\u001b[0m     \u001b[38;5;28;01mif\u001b[39;00m \u001b[38;5;28;43misinstance\u001b[39;49m\u001b[43m(\u001b[49m\u001b[43mpath\u001b[49m\u001b[43m,\u001b[49m\u001b[43m \u001b[49m\u001b[43mRectangle\u001b[49m\u001b[43m)\u001b[49m:\n\u001b[1;32m    799\u001b[0m         \u001b[38;5;28mself\u001b[39m\u001b[38;5;241m.\u001b[39mclipbox \u001b[38;5;241m=\u001b[39m TransformedBbox(Bbox\u001b[38;5;241m.\u001b[39munit(),\n\u001b[1;32m    800\u001b[0m                                        path\u001b[38;5;241m.\u001b[39mget_transform())\n\u001b[1;32m    801\u001b[0m         \u001b[38;5;28mself\u001b[39m\u001b[38;5;241m.\u001b[39m_clippath \u001b[38;5;241m=\u001b[39m \u001b[38;5;28;01mNone\u001b[39;00m\n",
      "\u001b[0;31mKeyboardInterrupt\u001b[0m: "
     ]
    },
    {
     "data": {
      "image/png": "[encoded data removed]",
      "text/plain": [
       "<Figure size 640x480 with 1 Axes>"
      ]
     },
     "metadata": {},
     "output_type": "display_data"
    }
   ],
   "source": [
    "blowout_price_rows = (ana_sales_df['price'] == 0) # in dollars \n",
    "ana_sales_df.drop(ana_sales_df[blowout_price_rows].index, inplace=True)\n",
    "\n",
    "plt.hist(ana_sales_df['price'], bins=80)\n",
    "plt.title('Prices of analgesics sales')\n",
    "plt.xlabel('Price')\n",
    "plt.ylabel('Numbers')\n",
    "\n",
    "ana_sales_df['price'].describe()   "
   ]
  },
  {
   "cell_type": "markdown",
   "metadata": {},
   "source": [
    "---"
   ]
  },
  {
   "cell_type": "code",
   "execution_count": null,
   "metadata": {},
   "outputs": [],
   "source": []
  }
 ],
 "metadata": {
  "kernelspec": {
   "display_name": ".venv",
   "language": "python",
   "name": "python3"
  },
  "language_info": {
   "codemirror_mode": {
    "name": "ipython",
    "version": 3
   },
   "file_extension": ".py",
   "mimetype": "text/x-python",
   "name": "python",
   "nbconvert_exporter": "python",
   "pygments_lexer": "ipython3",
   "version": "3.10.16"
  }
 },
 "nbformat": 4,
 "nbformat_minor": 2
}
